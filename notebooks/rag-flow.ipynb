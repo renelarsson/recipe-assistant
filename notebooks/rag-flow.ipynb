{
 "cells": [
  {
   "cell_type": "markdown",
   "id": "2f4cdc4c",
   "metadata": {},
   "source": [
    "## Retrieval-Augmented Generation (RAG) for Recipe Assistant: Minsearch and Elasticsearch\n",
    "\n",
    "This notebook demonstrates an end-to-end RAG workflow for recipe recommendations using both Minsearch (for prototyping and local development) and Elasticsearch (for scalable, production-grade search).  \n",
    "The notebook will index and search recipes, build prompts, and use OpenAI's LLM to generate grounded answers.\n",
    "\n",
    "---\n",
    "\n",
    "### Workflow Overview\n",
    "\n",
    "* Load and preprocess recipe data\n",
    "* Build a Minsearch index and perform keyword search\n",
    "* Build an Elasticsearch index and perform production-grade search\n",
    "* Construct prompts and call OpenAI LLM for answer generation\n",
    "* Compare Minsearch and Elasticsearch for RAG\n",
    "* Relation to `evaluation-data-generation.ipynb`: This notebook demonstrates the practical RAG workflow and retrieval strategies that are evaluated and compared in detail in `evaluation-data-generation.ipynb`."
   ]
  },
  {
   "cell_type": "code",
   "execution_count": 1,
   "id": "2437d0d9",
   "metadata": {},
   "outputs": [],
   "source": [
    "# Install dependencies (run once) \n",
    "# %pip install minsearch elasticsearch tqdm openai python-dotenv"
   ]
  },
  {
   "cell_type": "markdown",
   "id": "6533365c",
   "metadata": {},
   "source": [
    "### 1. Load and Preprocess Recipe Data\n",
    "\n",
    "We load the recipe dataset from CSV and prepare it for indexing."
   ]
  },
  {
   "cell_type": "code",
   "execution_count": 2,
   "id": "ab526b26",
   "metadata": {},
   "outputs": [
    {
     "data": {
      "text/plain": [
       "{'recipe_name': 'Spaghetti Carbonara',\n",
       " 'cuisine_type': 'Italian',\n",
       " 'meal_type': 'Dinner',\n",
       " 'difficulty_level': 'Medium',\n",
       " 'prep_time_minutes': 15,\n",
       " 'cook_time_minutes': 20,\n",
       " 'servings': 4,\n",
       " 'main_ingredients': 'Spaghetti, Eggs, Pancetta, Parmesan',\n",
       " 'all_ingredients': 'Spaghetti, Eggs, Pancetta, Parmesan, Black Pepper, Olive Oil, Salt',\n",
       " 'dietary_restrictions': 'Contains gluten, dairy, pork',\n",
       " 'instructions': 'Boil spaghetti until al dente. Fry pancetta until crispy. Whisk eggs with grated Parmesan. Toss hot spaghetti with pancetta and egg mixture off heat. Serve immediately with black pepper.',\n",
       " 'nutritional_info': 'Calories: 520, Protein: 22g, Carbs: 60g, Fat: 22g'}"
      ]
     },
     "execution_count": 2,
     "metadata": {},
     "output_type": "execute_result"
    }
   ],
   "source": [
    "import pandas as pd\n",
    "import json\n",
    "\n",
    "# Load recipe data\n",
    "df = pd.read_csv('../data/recipes_clean.csv')\n",
    "\n",
    "# Create documents for indexing\n",
    "documents = df.to_dict(orient='records')\n",
    "\n",
    "# Show an example document\n",
    "documents[0]"
   ]
  },
  {
   "cell_type": "markdown",
   "id": "34a1bd90",
   "metadata": {},
   "source": [
    "### 2. Minsearch: Lightweight In-Memory Search\n",
    "\n",
    "Minsearch is a simple, fast, in-memory search library ideal for prototyping, small datasets, and educational purposes.  \n",
    "It requires no external dependencies or server."
   ]
  },
  {
   "cell_type": "code",
   "execution_count": 3,
   "id": "1a0ba5ef",
   "metadata": {},
   "outputs": [],
   "source": [
    "# Download minsearch.py if not present (for local dev)\n",
    "#%pip install minsearch"
   ]
  },
  {
   "cell_type": "code",
   "execution_count": 4,
   "id": "59b2044b",
   "metadata": {},
   "outputs": [
    {
     "name": "stderr",
     "output_type": "stream",
     "text": [
      "/home/rll1405/recipe-assistant/notebooks/minsearch.py:10: UserWarning: Now minsearch is installable via pip: 'pip install minsearch'. Remove the downloaded file and re-install it with pip.\n",
      "  warnings.warn(\n"
     ]
    },
    {
     "data": {
      "text/plain": [
       "<minsearch.Index at 0x7f978db49f40>"
      ]
     },
     "execution_count": 4,
     "metadata": {},
     "output_type": "execute_result"
    }
   ],
   "source": [
    "import minsearch\n",
    "\n",
    "# Setup minsearch index for recipes\n",
    "index = minsearch.Index(\n",
    "    text_fields=['recipe_name', 'main_ingredients', 'all_ingredients', 'instructions', \\\n",
    "        'cuisine_type', 'dietary_restrictions'],\n",
    "    keyword_fields=['meal_type', 'difficulty_level']\n",
    ")\n",
    "\n",
    "# Fit the index on the recipe documents\n",
    "index.fit(documents)"
   ]
  },
  {
   "cell_type": "code",
   "execution_count": 5,
   "id": "eaf2c10a",
   "metadata": {},
   "outputs": [],
   "source": [
    "# Define a Minsearch search function with field boosting\n",
    "def minsearch_search(query, boost=None, num_results=5):\n",
    "    if boost is None:\n",
    "        boost = {'main_ingredients': 4.0, 'all_ingredients': 5.0, 'instructions': 3.0,\n",
    "                 'cuisine_type': 1.0, 'dietary_restrictions': 2.0}\n",
    "    results = index.search(\n",
    "        query=query,\n",
    "        boost_dict=boost,\n",
    "        num_results=num_results\n",
    "    )\n",
    "    return results"
   ]
  },
  {
   "cell_type": "code",
   "execution_count": 6,
   "id": "37799349",
   "metadata": {},
   "outputs": [
    {
     "data": {
      "text/plain": [
       "[{'recipe_name': 'Middle Eastern Chicken Bowl',\n",
       "  'cuisine_type': 'Middle Eastern',\n",
       "  'meal_type': 'Breakfast',\n",
       "  'difficulty_level': 'Medium',\n",
       "  'prep_time_minutes': 79,\n",
       "  'cook_time_minutes': 170,\n",
       "  'servings': 4,\n",
       "  'main_ingredients': 'Chicken, Shrimp, Pasta',\n",
       "  'all_ingredients': 'Chicken, Shrimp, Pasta, Cream, Butter, Spices, Garlic',\n",
       "  'dietary_restrictions': 'Kosher, Contains shellfish, Contains nuts',\n",
       "  'instructions': 'Prepare Chicken, Shrimp, Pasta. Cook with Chicken, Shrimp, Pasta, Cream, Butter, Spices, Garlic. Season and serve.',\n",
       "  'nutritional_info': 'Calories: 585, Protein: 17g, Carbs: 29g, Fat: 29g'},\n",
       " {'recipe_name': 'African Chicken Roast',\n",
       "  'cuisine_type': 'African',\n",
       "  'meal_type': 'Desserts',\n",
       "  'difficulty_level': 'Easy',\n",
       "  'prep_time_minutes': 31,\n",
       "  'cook_time_minutes': 1,\n",
       "  'servings': 5,\n",
       "  'main_ingredients': 'Chicken, Rice, Pasta',\n",
       "  'all_ingredients': 'Chicken, Rice, Pasta, Yogurt, Garlic, Chili, Onion',\n",
       "  'dietary_restrictions': 'Halal',\n",
       "  'instructions': 'Prepare Chicken, Rice, Pasta. Cook with Chicken, Rice, Pasta, Yogurt, Garlic, Chili, Onion. Season and serve.',\n",
       "  'nutritional_info': 'Calories: 255, Protein: 32g, Carbs: 14g, Fat: 21g'},\n",
       " {'recipe_name': 'Spanish Pasta Gazpacho',\n",
       "  'cuisine_type': 'Spanish',\n",
       "  'meal_type': 'Lunch',\n",
       "  'difficulty_level': 'Medium',\n",
       "  'prep_time_minutes': 69,\n",
       "  'cook_time_minutes': 82,\n",
       "  'servings': 6,\n",
       "  'main_ingredients': 'Pasta, Tofu, Chicken',\n",
       "  'all_ingredients': 'Pasta, Tofu, Chicken, Flour, Garlic, Sugar, Butter',\n",
       "  'dietary_restrictions': 'Halal',\n",
       "  'instructions': 'Prepare Pasta, Tofu, Chicken. Cook with Pasta, Tofu, Chicken, Flour, Garlic, Sugar, Butter. Season and serve.',\n",
       "  'nutritional_info': 'Calories: 368, Protein: 28g, Carbs: 43g, Fat: 10g'},\n",
       " {'recipe_name': 'African Pasta Roast',\n",
       "  'cuisine_type': 'African',\n",
       "  'meal_type': 'Breakfast',\n",
       "  'difficulty_level': 'Medium',\n",
       "  'prep_time_minutes': 21,\n",
       "  'cook_time_minutes': 3,\n",
       "  'servings': 5,\n",
       "  'main_ingredients': 'Pasta, Rice, Chicken',\n",
       "  'all_ingredients': 'Pasta, Rice, Chicken, Butter, Flour, Garlic, Soy Sauce',\n",
       "  'dietary_restrictions': 'Contains shellfish',\n",
       "  'instructions': 'Prepare Pasta, Rice, Chicken. Cook with Pasta, Rice, Chicken, Butter, Flour, Garlic, Soy Sauce. Season and serve.',\n",
       "  'nutritional_info': 'Calories: 320, Protein: 35g, Carbs: 44g, Fat: 6g'},\n",
       " {'recipe_name': 'Vietnamese Chicken Clay Pot',\n",
       "  'cuisine_type': 'Vietnamese',\n",
       "  'meal_type': 'Desserts',\n",
       "  'difficulty_level': 'Hard',\n",
       "  'prep_time_minutes': 88,\n",
       "  'cook_time_minutes': 155,\n",
       "  'servings': 2,\n",
       "  'main_ingredients': 'Chicken, Pasta, Cheese',\n",
       "  'all_ingredients': 'Chicken, Pasta, Cheese, Herbs, Garlic, Chili, Soy Sauce',\n",
       "  'dietary_restrictions': 'Halal, Contains nuts, Contains shellfish',\n",
       "  'instructions': 'Prepare Chicken, Pasta, Cheese. Cook with Chicken, Pasta, Cheese, Herbs, Garlic, Chili, Soy Sauce. Season and serve.',\n",
       "  'nutritional_info': 'Calories: 277, Protein: 20g, Carbs: 44g, Fat: 8g'}]"
      ]
     },
     "execution_count": 6,
     "metadata": {},
     "output_type": "execute_result"
    }
   ],
   "source": [
    "# Test Minsearch retrieval\n",
    "query = \"chicken, pasta, tomato, garlic\"\n",
    "minsearch_results = minsearch_search(query)\n",
    "minsearch_results"
   ]
  },
  {
   "cell_type": "markdown",
   "id": "ca577629",
   "metadata": {},
   "source": [
    "### 3. OpenAI Integration and RAG Flow\n",
    "\n",
    "We use OpenAI's language model to generate answers based on the context retrieved from Minsearch or Elasticsearch."
   ]
  },
  {
   "cell_type": "code",
   "execution_count": 7,
   "id": "aea9db15",
   "metadata": {},
   "outputs": [],
   "source": [
    "import dotenv\n",
    "dotenv.load_dotenv(dotenv_path=\"../.env\")  # Load OpenAI API key\n",
    "\n",
    "from openai import OpenAI\n",
    "client = OpenAI()"
   ]
  },
  {
   "cell_type": "code",
   "execution_count": 8,
   "id": "41ea0546",
   "metadata": {},
   "outputs": [],
   "source": [
    "# Build prompt for the LLM using retrieved context\n",
    "def build_prompt(query, search_results):\n",
    "    entry_template = \"\"\"\n",
    "Recipe: {recipe_name}\n",
    "Cuisine: {cuisine_type}\n",
    "Meal Type: {meal_type}\n",
    "Difficulty: {difficulty_level}\n",
    "Prep Time: {prep_time_minutes} minutes\n",
    "Cook Time: {cook_time_minutes} minutes\n",
    "Main Ingredients: {main_ingredients}\n",
    "Instructions: {instructions}\n",
    "Dietary Info: {dietary_restrictions}\n",
    "\"\"\".strip()\n",
    "    context = \"\\n\\n\".join([entry_template.format(**doc) for doc in search_results])\n",
    "    prompt_template = \"\"\"\n",
    "You are an expert chef and culinary assistant. Answer the question based on the content from our recipe database.\n",
    "Use only the facts from the context when answering the question.\n",
    "\n",
    "CONTEXT:\n",
    "{context}\n",
    "\n",
    "QUESTION: {question}\n",
    "\n",
    "Provide recipe recommendations with brief explanations of why they match the requested ingredients.\n",
    "If exact ingredients aren't available, suggest the closest matches and mention any substitutions needed.\n",
    "\"\"\".strip()\n",
    "    return prompt_template.format(context=context, question=query)"
   ]
  },
  {
   "cell_type": "code",
   "execution_count": 9,
   "id": "6abb6707",
   "metadata": {},
   "outputs": [],
   "source": [
    "# Define LLM call function\n",
    "def llm(prompt, model='gpt-4o-mini'):\n",
    "    response = client.chat.completions.create(\n",
    "        model=model,\n",
    "        messages=[{\"role\": \"user\", \"content\": prompt}]\n",
    "    )\n",
    "    return response.choices[0].message.content"
   ]
  },
  {
   "cell_type": "code",
   "execution_count": 10,
   "id": "990baff8",
   "metadata": {},
   "outputs": [
    {
     "data": {
      "text/plain": [
       "'Based on the provided ingredients (chicken, pasta, tomato, garlic), here are some recipe recommendations from our database, along with explanations and necessary substitutions:\\n\\n1. **Middle Eastern Chicken Bowl**\\n   - **Main Ingredients**: Chicken, Pasta, Garlic\\n   - **Explanation**: This recipe includes chicken and pasta, and garlic as an ingredient. However, it does not contain tomato. You can easily add fresh or canned tomatoes to the dish to incorporate this ingredient.\\n   - **Substitutions**: Add tomatoes at the cooking stage with the Cream and Spices to create a richer flavor profile.\\n\\n2. **Spanish Pasta Gazpacho**\\n   - **Main Ingredients**: Pasta, Chicken, Garlic\\n   - **Explanation**: This dish has pasta and chicken, and includes garlic. Though it does not specify tomatoes, classic gazpacho is typically made with tomatoes. You could incorporate chopped tomatoes into this recipe to align it more closely with your ingredient list.\\n   - **Substitutions**: Add fresh or canned tomatoes during preparation for a traditional gazpacho flair.\\n\\n3. **African Pasta Roast**\\n   - **Main Ingredients**: Pasta, Chicken, Garlic\\n   - **Explanation**: This recipe meets the chicken, pasta, and garlic criteria, similar to the previous options. However, it does not mention tomatoes. Again, you can enhance the dish by incorporating diced tomatoes.\\n   - **Substitutions**: Add tomatoes when cooking with the Butter, Flour, and Garlic for added flavor and moisture.\\n\\n**Conclusion**: Each of these recipes aligns with your main ingredients of chicken, pasta, and garlic, with the addition of tomatoes being a straightforward adjustment to enhance the dishes.'"
      ]
     },
     "execution_count": 10,
     "metadata": {},
     "output_type": "execute_result"
    }
   ],
   "source": [
    "# Define RAG pipeline using Minsearch\n",
    "def rag_minsearch(query):\n",
    "    search_results = minsearch_search(query)\n",
    "    prompt = build_prompt(query, search_results)\n",
    "    answer = llm(prompt)\n",
    "    return answer\n",
    "\n",
    "# Example usage\n",
    "rag_minsearch(query)"
   ]
  },
  {
   "cell_type": "markdown",
   "id": "b07ddb92",
   "metadata": {},
   "source": [
    "### 4. Elasticsearch: Production-Grade Search Engine\n",
    "\n",
    "Elasticsearch is a powerful, scalable, distributed search engine designed for production use, large datasets, and advanced search features.  \n",
    "It requires running a server and is suitable for real-world applications where persistence, scalability, and advanced querying are needed."
   ]
  },
  {
   "cell_type": "markdown",
   "id": "8100b1ea",
   "metadata": {},
   "source": [
    "Run terminal command:\n",
    "\n",
    "`docker run -d --name elasticsearch -p 9200:9200 -e \"discovery.type=single-node\" docker.elastic.co/elasticsearch/elasticsearch:8.13.4`\n",
    "\n",
    "Or:\n",
    "\n",
    "`docker run -d --name elasticsearch \\\n",
    "  -p 9200:9200 \\\n",
    "  -e \"discovery.type=single-node\" \\\n",
    "  -e \"xpack.security.enabled=false\" \\\n",
    "  -e \"ES_JAVA_OPTS=-Xms512m -Xmx1g\" \\\n",
    "  docker.elastic.co/elasticsearch/elasticsearch:8.13.4`\n",
    "\n",
    "And check if Elasticsearch is up:\n",
    "\n",
    "`curl http://localhost:9200`"
   ]
  },
  {
   "cell_type": "code",
   "execution_count": 11,
   "id": "989538af",
   "metadata": {},
   "outputs": [],
   "source": [
    "from elasticsearch import Elasticsearch\n",
    "from tqdm.auto import tqdm\n",
    "\n",
    "# Create Elasticsearch Client (make sure Elasticsearch is running locally)\n",
    "es_client = Elasticsearch('http://localhost:9200')"
   ]
  },
  {
   "cell_type": "code",
   "execution_count": 12,
   "id": "f1e89744",
   "metadata": {},
   "outputs": [
    {
     "name": "stdout",
     "output_type": "stream",
     "text": [
      "Index may already exist: BadRequestError(400, 'resource_already_exists_exception', 'index [recipes/YLkybRVbRMSnJpk0FiIC-w] already exists')\n"
     ]
    }
   ],
   "source": [
    "# Define Elasticsearch index settings and mappings for recipes\n",
    "index_settings = {\n",
    "    \"settings\": {\n",
    "        \"number_of_shards\": 1, # A unit of storage and search. More shards can improve parallelism for large datasets\n",
    "        \"number_of_replicas\": 0 # A shard copy for fault tolerance and increased search throughput (not recommended for production)\n",
    "    },\n",
    "    \"mappings\": {\n",
    "        \"properties\": {\n",
    "            \"recipe_name\": {\"type\": \"text\"},\n",
    "            \"main_ingredients\": {\"type\": \"text\"},\n",
    "            \"all_ingredients\": {\"type\": \"text\"},\n",
    "            \"instructions\": {\"type\": \"text\"},\n",
    "            \"cuisine_type\": {\"type\": \"text\"},\n",
    "            \"dietary_restrictions\": {\"type\": \"text\"},\n",
    "            \"meal_type\": {\"type\": \"keyword\"},\n",
    "            \"difficulty_level\": {\"type\": \"keyword\"},\n",
    "            \"prep_time_minutes\": {\"type\": \"integer\"},\n",
    "            \"cook_time_minutes\": {\"type\": \"integer\"}\n",
    "        }\n",
    "    }\n",
    "}\n",
    "\n",
    "index_name = \"recipes\"\n",
    "\n",
    "# Create the index (ignore error if it already exists)\n",
    "try:\n",
    "    es_client.indices.create(index=index_name, body=index_settings)\n",
    "except Exception as e:\n",
    "    print(\"Index may already exist:\", e)"
   ]
  },
  {
   "cell_type": "code",
   "execution_count": 13,
   "id": "f1553521",
   "metadata": {},
   "outputs": [
    {
     "data": {
      "application/vnd.jupyter.widget-view+json": {
       "model_id": "d637393a98b54aedbfe91093b01060f2",
       "version_major": 2,
       "version_minor": 0
      },
      "text/plain": [
       "  0%|          | 0/477 [00:00<?, ?it/s]"
      ]
     },
     "metadata": {},
     "output_type": "display_data"
    }
   ],
   "source": [
    "# Index documents into Elasticsearch\n",
    "for doc in tqdm(documents):\n",
    "    es_client.index(index=index_name, document=doc)"
   ]
  },
  {
   "cell_type": "code",
   "execution_count": null,
   "id": "aca9a051",
   "metadata": {},
   "outputs": [],
   "source": [
    "# Define Elasticsearch search function for recipes\n",
    "def elasticsearch_search(query, num_results=5):\n",
    "    search_query = {\n",
    "        \"size\": num_results,\n",
    "        \"query\": {\n",
    "            \"multi_match\": {\n",
    "                \"query\": query,\n",
    "                \"fields\": [\n",
    "                    \"recipe_name\", \n",
    "                    \"main_ingredients^4\", \n",
    "                    \"all_ingredients^5\",\n",
    "                    \"instructions^3\",\n",
    "                    \"cuisine_type\",\n",
    "                    \"dietary_restrictions^2\"\n",
    "                ],\n",
    "                \"type\": \"best_fields\"\n",
    "            }\n",
    "        }\n",
    "    }\n",
    "    response = es_client.search(index=index_name, body=search_query)\n",
    "    result_docs = []\n",
    "    for hit in response['hits']['hits']:\n",
    "        result_docs.append(hit['_source'])\n",
    "    return result_docs"
   ]
  },
  {
   "cell_type": "code",
   "execution_count": 15,
   "id": "c894a5e0",
   "metadata": {},
   "outputs": [
    {
     "data": {
      "text/plain": [
       "[{'recipe_name': 'Chicken Tikka Masala',\n",
       "  'cuisine_type': 'Indian',\n",
       "  'meal_type': 'Dinner',\n",
       "  'difficulty_level': 'Hard',\n",
       "  'prep_time_minutes': 30,\n",
       "  'cook_time_minutes': 45,\n",
       "  'servings': 4,\n",
       "  'main_ingredients': 'Chicken, Yogurt, Tomato Sauce, Spices',\n",
       "  'all_ingredients': 'Chicken, Yogurt, Tomato Paste, Cream, Onion, Garlic, Ginger, Garam Masala, Turmeric, Chili Powder, Cumin, Coriander',\n",
       "  'dietary_restrictions': 'Contains dairy',\n",
       "  'instructions': 'Marinate chicken in yogurt and spices. Grill until charred. Prepare sauce with onion, garlic, ginger, spices, tomato paste, and cream. Simmer chicken in sauce. Serve with rice or naan.',\n",
       "  'nutritional_info': 'Calories: 600, Protein: 35g, Carbs: 45g, Fat: 28g',\n",
       "  'id': 1},\n",
       " {'recipe_name': 'Chicken Tikka Masala',\n",
       "  'cuisine_type': 'Indian',\n",
       "  'meal_type': 'Dinner',\n",
       "  'difficulty_level': 'Hard',\n",
       "  'prep_time_minutes': 30,\n",
       "  'cook_time_minutes': 45,\n",
       "  'servings': 4,\n",
       "  'main_ingredients': 'Chicken, Yogurt, Tomato Sauce, Spices',\n",
       "  'all_ingredients': 'Chicken, Yogurt, Tomato Paste, Cream, Onion, Garlic, Ginger, Garam Masala, Turmeric, Chili Powder, Cumin, Coriander',\n",
       "  'dietary_restrictions': 'Contains dairy',\n",
       "  'instructions': 'Marinate chicken in yogurt and spices. Grill until charred. Prepare sauce with onion, garlic, ginger, spices, tomato paste, and cream. Simmer chicken in sauce. Serve with rice or naan.',\n",
       "  'nutritional_info': 'Calories: 600, Protein: 35g, Carbs: 45g, Fat: 28g'},\n",
       " {'recipe_name': 'Middle Eastern Chicken Bowl',\n",
       "  'cuisine_type': 'Middle Eastern',\n",
       "  'meal_type': 'Breakfast',\n",
       "  'difficulty_level': 'Medium',\n",
       "  'prep_time_minutes': 79,\n",
       "  'cook_time_minutes': 170,\n",
       "  'servings': 4,\n",
       "  'main_ingredients': 'Chicken, Shrimp, Pasta',\n",
       "  'all_ingredients': 'Chicken, Shrimp, Pasta, Cream, Butter, Spices, Garlic',\n",
       "  'dietary_restrictions': 'Kosher, Contains shellfish, Contains nuts',\n",
       "  'instructions': 'Prepare Chicken, Shrimp, Pasta. Cook with Chicken, Shrimp, Pasta, Cream, Butter, Spices, Garlic. Season and serve.',\n",
       "  'nutritional_info': 'Calories: 585, Protein: 17g, Carbs: 29g, Fat: 29g',\n",
       "  'id': 283},\n",
       " {'recipe_name': 'Spanish Pasta Gazpacho',\n",
       "  'cuisine_type': 'Spanish',\n",
       "  'meal_type': 'Lunch',\n",
       "  'difficulty_level': 'Medium',\n",
       "  'prep_time_minutes': 69,\n",
       "  'cook_time_minutes': 82,\n",
       "  'servings': 6,\n",
       "  'main_ingredients': 'Pasta, Tofu, Chicken',\n",
       "  'all_ingredients': 'Pasta, Tofu, Chicken, Flour, Garlic, Sugar, Butter',\n",
       "  'dietary_restrictions': 'Halal',\n",
       "  'instructions': 'Prepare Pasta, Tofu, Chicken. Cook with Pasta, Tofu, Chicken, Flour, Garlic, Sugar, Butter. Season and serve.',\n",
       "  'nutritional_info': 'Calories: 368, Protein: 28g, Carbs: 43g, Fat: 10g',\n",
       "  'id': 289},\n",
       " {'recipe_name': 'African Chicken Roast',\n",
       "  'cuisine_type': 'African',\n",
       "  'meal_type': 'Desserts',\n",
       "  'difficulty_level': 'Easy',\n",
       "  'prep_time_minutes': 31,\n",
       "  'cook_time_minutes': 1,\n",
       "  'servings': 5,\n",
       "  'main_ingredients': 'Chicken, Rice, Pasta',\n",
       "  'all_ingredients': 'Chicken, Rice, Pasta, Yogurt, Garlic, Chili, Onion',\n",
       "  'dietary_restrictions': 'Halal',\n",
       "  'instructions': 'Prepare Chicken, Rice, Pasta. Cook with Chicken, Rice, Pasta, Yogurt, Garlic, Chili, Onion. Season and serve.',\n",
       "  'nutritional_info': 'Calories: 255, Protein: 32g, Carbs: 14g, Fat: 21g',\n",
       "  'id': 446}]"
      ]
     },
     "execution_count": 15,
     "metadata": {},
     "output_type": "execute_result"
    }
   ],
   "source": [
    "# Test Elasticsearch retrieval\n",
    "query = \"chicken, pasta, tomato, garlic\"\n",
    "es_results = elasticsearch_search(query)\n",
    "es_results"
   ]
  },
  {
   "cell_type": "code",
   "execution_count": 16,
   "id": "062b2bef",
   "metadata": {},
   "outputs": [],
   "source": [
    "# Deduplication function to ensure unique recipes in results\n",
    "def deduplicate_results(results, key='recipe_name'):\n",
    "    seen = set()\n",
    "    deduped = []\n",
    "    for doc in results:\n",
    "        val = doc.get(key)\n",
    "        if val and val not in seen:\n",
    "            deduped.append(doc)\n",
    "            seen.add(val)\n",
    "    return deduped"
   ]
  },
  {
   "cell_type": "code",
   "execution_count": 17,
   "id": "7cd9676c",
   "metadata": {},
   "outputs": [
    {
     "data": {
      "text/plain": [
       "\"Based on the requested ingredients of chicken, pasta, tomato, and garlic, here are the recipe recommendations from our database:\\n\\n1. **Spanish Pasta Gazpacho**:\\n   - **Explanation**: This recipe includes chicken and pasta as main ingredients. Although it does not explicitly list tomato, the traditional gazpacho style usually incorporates tomatoes in some form, and the dish may include tomato flavors like tomato paste. Garlic is also a key ingredient in the preparation. Therefore, this recipe would align closely with your request. \\n   - **Possible Adjustment**: If a more prominent tomato flavor is desired, you could add diced tomatoes or tomato paste to enhance it.\\n\\n2. **Middle Eastern Chicken Bowl**:\\n   - **Explanation**: This recipe features chicken and includes pasta as well. Garlic is also part of the preparation. However, it does not directly list tomato as an ingredient; thus, for this recipe, you may want to incorporate fresh tomatoes or a tomato-based sauce to complement the dish.\\n   - **Possible Adjustment**: You can add diced tomatoes or a tomato sauce for visual and flavor enhancement, keeping in mind that it might slightly alter the dish's overall character.\\n\\nWhile there is no recipe with all four requested ingredients exactly, the Spanish Pasta Gazpacho is the closest match, and adjustments can be made to the other recipes to include tomatoes.\""
      ]
     },
     "execution_count": 17,
     "metadata": {},
     "output_type": "execute_result"
    }
   ],
   "source": [
    "# Define RAG pipeline using Elasticsearch\n",
    "def rag_elasticsearch(query):\n",
    "    search_results = elasticsearch_search(query)\n",
    "    search_results = deduplicate_results(search_results)\n",
    "    prompt = build_prompt(query, search_results)\n",
    "    answer = llm(prompt)\n",
    "    return answer\n",
    "\n",
    "# Example usage\n",
    "rag_elasticsearch(query)"
   ]
  },
  {
   "cell_type": "markdown",
   "id": "552c89a0",
   "metadata": {},
   "source": [
    "Stop and shut down Elasticsearch running in Docker:\n",
    "\n",
    "`docker stop elasticsearch`\n",
    "\n",
    "Remove the container (optional, if you want to delete it):\n",
    "\n",
    "`docker rm elasticsearch`\n"
   ]
  },
  {
   "cell_type": "markdown",
   "id": "60ef8f9d",
   "metadata": {},
   "source": [
    "### 5. End-to-End RAG Workflow Summary\n",
    "\n",
    "- **Minsearch** is ideal for prototyping, small datasets, and educational use. It is fast and easy to set up, but not suitable for large-scale or production deployments.\n",
    "- **Elasticsearch** is a robust, scalable, and production-ready search engine. It supports advanced search features, persistence, and can handle large datasets and concurrent users.\n",
    "\n",
    "**Typical RAG Workflow:**\n",
    "1. Load and preprocess recipe documents.\n",
    "2. Index documents using Minsearch or Elasticsearch.\n",
    "3. Retrieve relevant recipes for a user query.\n",
    "4. Build a prompt for the LLM using the retrieved context.\n",
    "5. Generate an answer using the LLM.\n",
    "6. (Optional) Compare retrieval quality and LLM answers between Minsearch and Elasticsearch.\n",
    "\n",
    "---\n",
    "\n",
    "### Minsearch vs. Elasticsearch: When to Use Each\n",
    "\n",
    "- **Minsearch** is best for:\n",
    "  - Fast prototyping and experimentation.\n",
    "  - Educational purposes and small datasets.\n",
    "  - No server or infrastructure requirements.\n",
    "\n",
    "- **Elasticsearch** is best for:\n",
    "  - Production deployments and large datasets.\n",
    "  - Advanced search features (filtering, scoring, aggregations).\n",
    "  - Scalable, persistent, and distributed search.\n",
    "\n",
    "---\n",
    "\n",
    "### Relation to `rag-evaluation.ipynb`\n",
    "\n",
    "- This notebook demonstrates the practical RAG workflow and retrieval strategies (Minsearch, Elasticsearch) that are evaluated and compared in detail in `rag-evaluation.ipynb`.\n",
    "- In `rag-evaluation.ipynb`, you will find systematic evaluation of retrieval quality, diversity, and LLM answer relevance, as well as advanced retrieval strategies (e.g., hybrid search, ingredient coverage, Hit Rate and MRR).\n",
    "- Use this notebook for hands-on RAG prototyping and as a foundation for further evaluation and productionization.\n",
    "\n",
    "---\n"
   ]
  }
 ],
 "metadata": {
  "kernelspec": {
   "display_name": "recipe-assistant-P5TWTFE5",
   "language": "python",
   "name": "python3"
  },
  "language_info": {
   "codemirror_mode": {
    "name": "ipython",
    "version": 3
   },
   "file_extension": ".py",
   "mimetype": "text/x-python",
   "name": "python",
   "nbconvert_exporter": "python",
   "pygments_lexer": "ipython3",
   "version": "3.12.3"
  }
 },
 "nbformat": 4,
 "nbformat_minor": 5
}
