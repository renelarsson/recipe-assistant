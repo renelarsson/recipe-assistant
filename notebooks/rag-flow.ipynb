{
 "cells": [
  {
   "cell_type": "markdown",
   "id": "30d2e393",
   "metadata": {},
   "source": [
    "## Retrieval-Augmented Generation (RAG) for Recipe Assistant: Minsearch and Elasticsearch\n",
    "\n",
    "This notebook demonstrates an end-to-end RAG workflow for recipe recommendations using both Minsearch (for prototyping and local development) and Elasticsearch (for scalable, production-grade search).  \n",
    "It includes advanced retrieval strategies, LLM-based query rewriting and re-ranking, prompt strategies, and evaluation metrics.\n",
    "These strategies will be evaluated in `rag-evaluation.ipynb`\n",
    "\n",
    "---"
   ]
  },
  {
   "cell_type": "markdown",
   "id": "3900ebb8",
   "metadata": {},
   "source": [
    "### 1. Set-up Dependencies, OpenAI Client and Dataset"
   ]
  },
  {
   "cell_type": "markdown",
   "id": "2a4d4a1b",
   "metadata": {},
   "source": [
    "#### 1.1. Dependencies and OpenAI Client\n",
    "Install (run once) and import dependencies, load OpenAI API key and connect to OpenAI API."
   ]
  },
  {
   "cell_type": "code",
   "execution_count": 9,
   "id": "adf435ae",
   "metadata": {},
   "outputs": [],
   "source": [
    "# %pip install minsearch elasticsearch tqdm openai python-dotenv "
   ]
  },
  {
   "cell_type": "code",
   "execution_count": null,
   "id": "671c1dd9",
   "metadata": {},
   "outputs": [],
   "source": [
    "import pandas as pd\n",
    "import numpy as np\n",
    "import json\n",
    "import re\n",
    "from tqdm.auto import tqdm\n",
    "import dotenv\n",
    "import minsearch\n",
    "from elasticsearch import Elasticsearch\n",
    "from openai import OpenAI"
   ]
  },
  {
   "cell_type": "code",
   "execution_count": 2,
   "id": "4e934ec8",
   "metadata": {},
   "outputs": [],
   "source": [
    "dotenv.load_dotenv(dotenv_path=\"../.env\")\n",
    "client = OpenAI()"
   ]
  },
  {
   "cell_type": "markdown",
   "id": "c9b5520c",
   "metadata": {},
   "source": [
    "#### 1.2. Load and Index Recipe Data\n",
    "\n",
    "Load the recipe dataset from CSV file and prepare it for indexing."
   ]
  },
  {
   "cell_type": "code",
   "execution_count": 3,
   "id": "525c72a9",
   "metadata": {},
   "outputs": [
    {
     "data": {
      "text/plain": [
       "{'recipe_name': 'Spaghetti Carbonara',\n",
       " 'cuisine_type': 'Italian',\n",
       " 'meal_type': 'Dinner',\n",
       " 'difficulty_level': 'Medium',\n",
       " 'prep_time_minutes': 15,\n",
       " 'cook_time_minutes': 20,\n",
       " 'servings': 4,\n",
       " 'main_ingredients': 'Spaghetti, Eggs, Pancetta, Parmesan',\n",
       " 'all_ingredients': 'Spaghetti, Eggs, Pancetta, Parmesan, Black Pepper, Olive Oil, Salt',\n",
       " 'dietary_restrictions': 'Contains gluten, dairy, pork',\n",
       " 'instructions': 'Boil spaghetti until al dente. Fry pancetta until crispy. Whisk eggs with grated Parmesan. Toss hot spaghetti with pancetta and egg mixture off heat. Serve immediately with black pepper.',\n",
       " 'nutritional_info': 'Calories: 520, Protein: 22g, Carbs: 60g, Fat: 22g',\n",
       " 'id': 0}"
      ]
     },
     "execution_count": 3,
     "metadata": {},
     "output_type": "execute_result"
    }
   ],
   "source": [
    "df = pd.read_csv('../data/recipes_clean.csv')\n",
    "\n",
    "# Add an ID column if it doesn't exist\n",
    "if 'id' not in df.columns:\n",
    "    df['id'] = range(len(df))\n",
    "    \n",
    "# Create documents for indexing\n",
    "documents = df.to_dict(orient='records')\n",
    "documents[0]"
   ]
  },
  {
   "cell_type": "markdown",
   "id": "56eaa9a2",
   "metadata": {},
   "source": [
    "### 2. Utility Functions"
   ]
  },
  {
   "cell_type": "markdown",
   "id": "e9080e8d",
   "metadata": {},
   "source": [
    "#### 2.1. Create Time Filter\n",
    "Users will be queried for available time. "
   ]
  },
  {
   "cell_type": "code",
   "execution_count": 4,
   "id": "e7cca90f",
   "metadata": {},
   "outputs": [],
   "source": [
    "def filter_by_max_time(results, max_time=None):\n",
    "    if max_time is None:\n",
    "        return results\n",
    "    filtered = []\n",
    "    for doc in results:\n",
    "        try:\n",
    "            total_time = int(doc.get('prep_time_minutes', 0)) + int(doc.get('cook_time_minutes', 0))\n",
    "        except Exception:\n",
    "            total_time = 99999\n",
    "        if total_time <= max_time:\n",
    "            filtered.append(doc)\n",
    "    return filtered"
   ]
  },
  {
   "cell_type": "markdown",
   "id": "c914c9cc",
   "metadata": {},
   "source": [
    "#### 2.2. Print Unused Ingredients\n",
    "\n",
    "Utility function that, given the query and the results, prints which query ingredients were not covered by the selected recipes."
   ]
  },
  {
   "cell_type": "code",
   "execution_count": 5,
   "id": "91b7a317",
   "metadata": {},
   "outputs": [],
   "source": [
    "# tokenize_ingredients is used in below Cover Ingredients Searches\n",
    "def tokenize_ingredients(ingredient_str):\n",
    "    # Split only on commas, strip whitespace, and lowercase\n",
    "    return set([ing.strip().lower() for ing in ingredient_str.split(',') if ing.strip()])"
   ]
  },
  {
   "cell_type": "code",
   "execution_count": 6,
   "id": "6319105f",
   "metadata": {},
   "outputs": [],
   "source": [
    "def print_unused_ingredients(ingredients, results):\n",
    "    query_ings = tokenize_ingredients(ingredients)\n",
    "    used = set()\n",
    "    for doc in results:\n",
    "        recipe_ings = tokenize_ingredients(doc.get('all_ingredients', ''))\n",
    "        used |= recipe_ings\n",
    "    unused = query_ings - used\n",
    "    print(\"Unused ingredients:\", \", \".join(unused) if unused else \"All ingredients used!\")"
   ]
  },
  {
   "cell_type": "markdown",
   "id": "caf4efa8",
   "metadata": {},
   "source": [
    "#### 2.3. Deduplicate Search results\n",
    "Elasticsearch and LLMs can sometimes return duplicate or near-duplicate documents."
   ]
  },
  {
   "cell_type": "code",
   "execution_count": 7,
   "id": "fe2aae17",
   "metadata": {},
   "outputs": [],
   "source": [
    "def deduplicate_results(results):\n",
    "    seen = set()\n",
    "    deduped = []\n",
    "    for doc in results:\n",
    "        # Use a unique field, e.g. 'id' or a tuple of fields\n",
    "        key = doc.get('id') or (doc.get('recipe_name'), doc.get('prep_time_minutes'), doc.get('cook_time_minutes'))\n",
    "        if key not in seen:\n",
    "            seen.add(key)\n",
    "            deduped.append(doc)\n",
    "    return deduped"
   ]
  },
  {
   "cell_type": "markdown",
   "id": "f20a79e8",
   "metadata": {},
   "source": [
    "### 3. Minsearch: In-memory Search Library\n",
    "\n",
    "Minsearch is a simple, fast, in-memory search library ideal for prototyping, small datasets, and educational purposes. It requires no external dependencies or server."
   ]
  },
  {
   "cell_type": "markdown",
   "id": "8e86ff9a",
   "metadata": {},
   "source": [
    "#### 3.1. Build Minsearch Index and Run Simple Retrieval Strategies"
   ]
  },
  {
   "cell_type": "code",
   "execution_count": null,
   "id": "9428ddf1",
   "metadata": {},
   "outputs": [],
   "source": [
    "# prep/cook time and servings are numeric, and not suitable for Minsearch's default text/keyword search.\n",
    "# Setup minsearch index for recipes\n",
    "index = minsearch.Index(\n",
    "    text_fields=['recipe_name', 'main_ingredients', 'all_ingredients', \\\n",
    "                 'instructions', 'cuisine_type', 'dietary_restrictions'],\n",
    "    keyword_fields=['meal_type', 'difficulty_level'] # Categorical values\n",
    ")\n",
    "\n",
    "# Fit/train the index on the recipe documents\n",
    "index.fit(documents)\n",
    "index.documents = index.docs"
   ]
  },
  {
   "cell_type": "markdown",
   "id": "f49f8ca6",
   "metadata": {},
   "source": [
    "##### Approach 1: Basic Keyword Search\n",
    "\n",
    "Returns recipes that match the query using simple keyword matching across all fields."
   ]
  },
  {
   "cell_type": "code",
   "execution_count": 36,
   "id": "e03b2151",
   "metadata": {},
   "outputs": [],
   "source": [
    "def ms_basic_search(query, index=index, num_results=5, max_time=None):\n",
    "    results = index.search(query=query, num_results=num_results*2)  # get more to allow filtering\n",
    "    results = filter_by_max_time(results, max_time)\n",
    "    return results[:num_results]"
   ]
  },
  {
   "cell_type": "markdown",
   "id": "e8223a5b",
   "metadata": {},
   "source": [
    "##### Approach 2: Boosting Search\n",
    "\n",
    "Similar to basic, but gives more weight to important fields."
   ]
  },
  {
   "cell_type": "code",
   "execution_count": 37,
   "id": "52a03ca0",
   "metadata": {},
   "outputs": [],
   "source": [
    "def ms_boosting_search(query, index=index, num_results=5, max_time=None):\n",
    "    boost_dict = {\n",
    "        'main_ingredients': 4.0,\n",
    "        'all_ingredients': 5.0,\n",
    "        'instructions': 2.0,\n",
    "        'prep_time_minutes': 1.5,\n",
    "        'cook_time_minutes': 1.5,\n",
    "        'dietary_restrictions': 2.0\n",
    "    }\n",
    "    results = index.search(query=query, boost_dict=boost_dict, num_results=num_results*2)\n",
    "    results = filter_by_max_time(results, max_time)\n",
    "    return results[:num_results]"
   ]
  },
  {
   "cell_type": "markdown",
   "id": "63e4f45e",
   "metadata": {},
   "source": [
    "#### 3.2. Advanced Retrieval Strategies\n",
    "Below are advanced retrieval strategies that allow for more flexible, robust, and user-friendly recipe search.\n",
    "\n"
   ]
  },
  {
   "cell_type": "markdown",
   "id": "81e75124",
   "metadata": {},
   "source": [
    "##### Approach 3: Query Expansion search\n",
    "\n",
    "Expands the query with synonyms (e.g., \"chicken\" → \"poultry\", \"breast\") before searching, to improve recall.\n"
   ]
  },
  {
   "cell_type": "code",
   "execution_count": 38,
   "id": "985d93f2",
   "metadata": {},
   "outputs": [],
   "source": [
    "def expand_culinary_query(query):\n",
    "    synonyms = {\n",
    "        'chicken': ['poultry', 'fowl', 'breast', 'thigh'],\n",
    "        'pasta': ['noodles', 'spaghetti', 'linguine', 'vermicelli', 'orzo', 'macaroni'],\n",
    "        'tomatoes': ['tomato', 'roma', 'cherry tomatoes', 'heirloom'],\n",
    "        'beef': ['steak', 'ground beef', 'brisket', 'sirloin'],\n",
    "        'potatoes': ['spuds', 'russet', 'yukon', 'sweet potatoes'],\n",
    "        'cheese': ['cheddar', 'mozzarella', 'parmesan', 'feta', 'gruyere'],\n",
    "        'onion': ['onions', 'red onion', 'yellow onion', 'shallot'],\n",
    "        'rice': ['basmati', 'jasmine', 'arborio', 'brown rice'],\n",
    "        'shrimp': ['prawns', 'shellfish', 'seafood'],\n",
    "        'eggs': ['egg', 'yolk', 'whites'],\n",
    "        'herbs': ['basil', 'oregano', 'thyme', 'rosemary']\n",
    "    }\n",
    "    tokens = query.lower().split()\n",
    "    expanded_tokens = tokens.copy()\n",
    "    for token in tokens:\n",
    "        if token in synonyms:\n",
    "            expanded_tokens.extend(synonyms[token][:2])\n",
    "    return ' '.join(expanded_tokens)\n",
    "\n",
    "def ms_expansion_search(query, index=index, num_results=5, max_time=None):\n",
    "    expanded_query = expand_culinary_query(query)\n",
    "    results = index.search(expanded_query, num_results=num_results*2)\n",
    "    results = filter_by_max_time(results, max_time)\n",
    "    return results[:num_results]"
   ]
  },
  {
   "cell_type": "markdown",
   "id": "6738cf3d",
   "metadata": {},
   "source": [
    "##### Approach 4: Hybrid Search With OpenAI (Keyword + Embedding)\n",
    "Combines keyword and with OpenAI's embedding-based (semantic) similarity for more robust retrieval."
   ]
  },
  {
   "cell_type": "code",
   "execution_count": 39,
   "id": "ecec21c2",
   "metadata": {},
   "outputs": [],
   "source": [
    "def get_embedding(text):\n",
    "    response = client.embeddings.create( # OpenAI client\n",
    "        model=\"text-embedding-3-small\",\n",
    "        input=[text]\n",
    "    )\n",
    "    return np.array(response.data[0].embedding)\n",
    "\n",
    "# Precompute embeddings for all recipes (DO THIS ONCE AND CACHE)\n",
    "if not hasattr(index, \"embeddings\"):\n",
    "    index.embeddings = [get_embedding(doc['all_ingredients']) for doc in index.documents]\n",
    "\n",
    "def ms_hybrid_search(query, index, num_results=5, alpha=0.5, max_time=None):\n",
    "    # Keyword search using SimpleIndex\n",
    "    keyword_results = index.search(query, num_results=10)\n",
    "    # Embedding search\n",
    "    query_emb = get_embedding(query)\n",
    "    similarities = [np.dot(query_emb, emb) for emb in index.embeddings]\n",
    "    top_indices = np.argsort(similarities)[-10:][::-1]\n",
    "    embedding_results = [index.documents[i] for i in top_indices]\n",
    "    # Combine results (simple union, or weighted score)\n",
    "    combined = {}\n",
    "    for doc in keyword_results:\n",
    "        combined[doc['id']] = alpha\n",
    "    for doc in embedding_results:\n",
    "        combined[doc['id']] = combined.get(doc['id'], 0) + (1 - alpha)\n",
    "    # Sort by combined score\n",
    "    sorted_ids = sorted(combined, key=combined.get, reverse=True)\n",
    "    results = [doc for doc in index.documents if doc['id'] in sorted_ids]\n",
    "    results = filter_by_max_time(results, max_time)\n",
    "    # Deduplicate before returning (optional but recommended if you ever combine sources)\n",
    "    deduped_results = deduplicate_results(results)\n",
    "    return deduped_results[:num_results]"
   ]
  },
  {
   "cell_type": "markdown",
   "id": "774d8acd",
   "metadata": {},
   "source": [
    "##### Approach 5: Cover Ingredients Search\n",
    "Selects a set of recipes that together cover as many of the query ingredients as possible, optionally filtering out recipes that exceed the max_time constraint.\n"
   ]
  },
  {
   "cell_type": "code",
   "execution_count": null,
   "id": "53db9fd8",
   "metadata": {},
   "outputs": [],
   "source": [
    "# *** Already run above ***\n",
    "def tokenize_ingredients(ingredient_str):\n",
    "    # Split only on commas, strip whitespace, and lowercase\n",
    "    return set([ing.strip().lower() for ing in ingredient_str.split(',') if ing.strip()])"
   ]
  },
  {
   "cell_type": "code",
   "execution_count": 41,
   "id": "9cef7c2a",
   "metadata": {},
   "outputs": [],
   "source": [
    "def ms_cover_ingredients_search(query, index, num_results=5, max_time=None):\n",
    "    \"\"\"\n",
    "    Selects a set of recipes that together cover as many of the query ingredients as possible,\n",
    "    optionally filtering out recipes that exceed the max_time constraint.\n",
    "    \"\"\"\n",
    "    query_ings = tokenize_ingredients(query)\n",
    "    uncovered = set(query_ings)\n",
    "    selected = []\n",
    "    docs = index.documents.copy()\n",
    "\n",
    "    # Apply time filter to docs at the start for efficiency\n",
    "    docs = filter_by_max_time(docs, max_time)\n",
    "\n",
    "    while uncovered and len(selected) < num_results and docs:\n",
    "        best_doc = None\n",
    "        best_overlap = 0\n",
    "        for doc in docs:\n",
    "            recipe_ings = tokenize_ingredients(doc.get('all_ingredients', ''))\n",
    "            overlap = len(uncovered & recipe_ings)\n",
    "            if overlap > best_overlap:\n",
    "                best_overlap = overlap\n",
    "                best_doc = doc\n",
    "        if best_doc and best_overlap > 0:\n",
    "            selected.append(best_doc)\n",
    "            recipe_ings = tokenize_ingredients(best_doc.get('all_ingredients', ''))\n",
    "            uncovered -= recipe_ings\n",
    "            docs.remove(best_doc)\n",
    "        else:\n",
    "            break\n",
    "    # Deduplicate results before returning (recommended if docs may have overlap)\n",
    "    deduped_results = deduplicate_results(selected)\n",
    "    return deduped_results"
   ]
  },
  {
   "cell_type": "markdown",
   "id": "abca2fb9",
   "metadata": {},
   "source": [
    "#### 3.3. Test All Retrieval Approaches:\n",
    "Seach retrieval approaches manually with a random ingredient list."
   ]
  },
  {
   "cell_type": "code",
   "execution_count": null,
   "id": "ec02e2f7",
   "metadata": {},
   "outputs": [
    {
     "name": "stdout",
     "output_type": "stream",
     "text": [
      "MS Basic Search: [{'recipe_name': 'African Pasta Roast', 'cuisine_type': 'African', 'meal_type': 'Breakfast', 'difficulty_level': 'Medium', 'prep_time_minutes': 21, 'cook_time_minutes': 3, 'servings': 5, 'main_ingredients': 'Pasta, Rice, Chicken', 'all_ingredients': 'Pasta, Rice, Chicken, Butter, Flour, Garlic, Soy Sauce', 'dietary_restrictions': 'Contains shellfish', 'instructions': 'Prepare Pasta, Rice, Chicken. Cook with Pasta, Rice, Chicken, Butter, Flour, Garlic, Soy Sauce. Season and serve.', 'nutritional_info': 'Calories: 320, Protein: 35g, Carbs: 44g, Fat: 6g', 'id': 235}]\n",
      "Unused ingredients: onion, tomato, milk, shrimp, potatoes, cheese, lemon, sugar, chocolate, thyme, bell pepper, fish, eggs\n",
      "MS Ingredient Search: []\n",
      "Unused ingredients: tomato, milk, rice, potatoes, cheese, lemon, sugar, chocolate, thyme, fish, shrimp, eggs, onion, butter, flour, garlic, chicken, bell pepper, pasta\n",
      "MS Query Expansion Search: [{'recipe_name': 'African Pasta Roast', 'cuisine_type': 'African', 'meal_type': 'Breakfast', 'difficulty_level': 'Medium', 'prep_time_minutes': 21, 'cook_time_minutes': 3, 'servings': 5, 'main_ingredients': 'Pasta, Rice, Chicken', 'all_ingredients': 'Pasta, Rice, Chicken, Butter, Flour, Garlic, Soy Sauce', 'dietary_restrictions': 'Contains shellfish', 'instructions': 'Prepare Pasta, Rice, Chicken. Cook with Pasta, Rice, Chicken, Butter, Flour, Garlic, Soy Sauce. Season and serve.', 'nutritional_info': 'Calories: 320, Protein: 35g, Carbs: 44g, Fat: 6g', 'id': 235}]\n",
      "Unused ingredients: onion, tomato, milk, shrimp, potatoes, cheese, lemon, sugar, chocolate, thyme, bell pepper, fish, eggs\n",
      "MS Hybrid Search: [{'recipe_name': 'Thai Tomatoes Power Bowl', 'cuisine_type': 'Thai', 'meal_type': 'Lunch', 'difficulty_level': 'Hard', 'prep_time_minutes': 25, 'cook_time_minutes': 2, 'servings': 2, 'main_ingredients': 'Tomatoes, Fish, Mushrooms', 'all_ingredients': 'Tomatoes, Fish, Mushrooms, Garlic, Spices, Milk, Sugar', 'dietary_restrictions': 'Contains nuts, Low-carb', 'instructions': 'Prepare Tomatoes, Fish, Mushrooms. Cook with Tomatoes, Fish, Mushrooms, Garlic, Spices, Milk, Sugar. Season and serve.', 'nutritional_info': 'Calories: 359, Protein: 27g, Carbs: 75g, Fat: 16g', 'id': 19}, {'recipe_name': 'African Pasta Roast', 'cuisine_type': 'African', 'meal_type': 'Breakfast', 'difficulty_level': 'Medium', 'prep_time_minutes': 21, 'cook_time_minutes': 3, 'servings': 5, 'main_ingredients': 'Pasta, Rice, Chicken', 'all_ingredients': 'Pasta, Rice, Chicken, Butter, Flour, Garlic, Soy Sauce', 'dietary_restrictions': 'Contains shellfish', 'instructions': 'Prepare Pasta, Rice, Chicken. Cook with Pasta, Rice, Chicken, Butter, Flour, Garlic, Soy Sauce. Season and serve.', 'nutritional_info': 'Calories: 320, Protein: 35g, Carbs: 44g, Fat: 6g', 'id': 235}, {'recipe_name': 'Mediterranean Tomatoes Soup', 'cuisine_type': 'Mediterranean', 'meal_type': 'Breakfast', 'difficulty_level': 'Hard', 'prep_time_minutes': 10, 'cook_time_minutes': 22, 'servings': 1, 'main_ingredients': 'Tomatoes, Cheese, Chicken', 'all_ingredients': 'Tomatoes, Cheese, Chicken, Garlic, Milk, Soy Sauce, Sugar', 'dietary_restrictions': 'Contains dairy, Low-carb, Gluten-free', 'instructions': 'Prepare Tomatoes, Cheese, Chicken. Cook with Tomatoes, Cheese, Chicken, Garlic, Milk, Soy Sauce, Sugar. Season and serve.', 'nutritional_info': 'Calories: 216, Protein: 36g, Carbs: 40g, Fat: 7g', 'id': 255}]\n",
      "Unused ingredients: onion, tomato, potatoes, lemon, chocolate, thyme, bell pepper, shrimp, eggs\n",
      "African Pasta Roast - Pasta, Rice, Chicken, Butter, Flour, Garlic, Soy Sauce\n",
      "African Lentils Tagine - Lentils, Shrimp, Eggs, Butter, Yogurt, Sugar, Onion\n",
      "African Potatoes Curry - Potatoes, Beef, Cheese, Herbs, Yogurt, Honey, Milk\n",
      "Beef Tacos - Ground Beef, Taco Seasoning, Corn Tortillas, Lettuce, Tomato, Cheese, Sour Cream, Salsa\n",
      "Thai Tomatoes Power Bowl - Tomatoes, Fish, Mushrooms, Garlic, Spices, Milk, Sugar\n",
      "Unused ingredients: thyme, bell pepper, chocolate, lemon\n"
     ]
    }
   ],
   "source": [
    "ingredients = \"tomato, flour, sugar, chicken, rice, butter, chocolate, shrimp, potatoes, eggs, milk, pasta, cheese, garlic, onion, bell pepper, fish, lemon, thyme\"\n",
    "max_time = 45\n",
    "\n",
    "ms_basic_results = ms_basic_search(ingredients, index, max_time=max_time)\n",
    "print(\"MS Basic Search:\", ms_basic_results)\n",
    "print_unused_ingredients(ingredients, ms_basic_results)\n",
    "\n",
    "ms_boosting_results = ms_boosting_search(ingredients, index, max_time=max_time)\n",
    "print(\"MS Ingredient Search:\", ms_boosting_results)\n",
    "print_unused_ingredients(ingredients, ms_boosting_results)\n",
    "\n",
    "ms_query_expansion_results = ms_expansion_search(ingredients, index, max_time=max_time)\n",
    "print(\"MS Query Expansion Search:\", ms_query_expansion_results)\n",
    "print_unused_ingredients(ingredients, ms_query_expansion_results)\n",
    "\n",
    "ms_hybrid_results = ms_hybrid_search(ingredients, index, max_time=max_time)\n",
    "print(\"MS Hybrid Search:\", ms_hybrid_results)\n",
    "print_unused_ingredients(ingredients, ms_hybrid_results)\n",
    "\n",
    "# num_results is hardcoded as 5 in above function definitions\n",
    "# cover_ingredients_search requires num_results to be explicitly passed to control how many recipes are selected in its loop\n",
    "cover_results = ms_cover_ingredients_search(ingredients, index, num_results=5, max_time=max_time)\n",
    "for doc in cover_results:\n",
    "    print(doc['recipe_name'], \"-\", doc['all_ingredients'])\n",
    "print_unused_ingredients(ingredients, cover_results)"
   ]
  },
  {
   "cell_type": "markdown",
   "id": "ccbb394b",
   "metadata": {},
   "source": [
    "#### 3.4. Inspect ms_cover_ingredients_search\n",
    "Examine ms_cover_ingredients_search fields of recipe in the results to get the rest of the fields."
   ]
  },
  {
   "cell_type": "code",
   "execution_count": 43,
   "id": "a342f85b",
   "metadata": {},
   "outputs": [
    {
     "name": "stdout",
     "output_type": "stream",
     "text": [
      "Name: African Pasta Roast\n",
      "Main Ingredients: Pasta, Rice, Chicken\n",
      "All Ingredients: Pasta, Rice, Chicken, Butter, Flour, Garlic, Soy Sauce\n",
      "Instructions: Prepare Pasta, Rice, Chicken. Cook with Pasta, Rice, Chicken, Butter, Flour, Garlic, Soy Sauce. Season and serve.\n",
      "Cuisine: African\n",
      "Preparation Time: 21 minutes\n",
      "Cooking Time: 3 minutes\n",
      "----------------------------------------\n",
      "Name: African Lentils Tagine\n",
      "Main Ingredients: Lentils, Shrimp, Eggs\n",
      "All Ingredients: Lentils, Shrimp, Eggs, Butter, Yogurt, Sugar, Onion\n",
      "Instructions: Prepare Lentils, Shrimp, Eggs. Cook with Lentils, Shrimp, Eggs, Butter, Yogurt, Sugar, Onion. Season and serve.\n",
      "Cuisine: African\n",
      "Preparation Time: 23 minutes\n",
      "Cooking Time: 4 minutes\n",
      "----------------------------------------\n",
      "Name: African Potatoes Curry\n",
      "Main Ingredients: Potatoes, Beef, Cheese\n",
      "All Ingredients: Potatoes, Beef, Cheese, Herbs, Yogurt, Honey, Milk\n",
      "Instructions: Prepare Potatoes, Beef, Cheese. Cook with Potatoes, Beef, Cheese, Herbs, Yogurt, Honey, Milk. Season and serve.\n",
      "Cuisine: African\n",
      "Preparation Time: 12 minutes\n",
      "Cooking Time: 13 minutes\n",
      "----------------------------------------\n",
      "Name: Beef Tacos\n",
      "Main Ingredients: Ground Beef, Tortillas\n",
      "All Ingredients: Ground Beef, Taco Seasoning, Corn Tortillas, Lettuce, Tomato, Cheese, Sour Cream, Salsa\n",
      "Instructions: Brown beef with seasoning. Warm tortillas. Assemble tacos with beef, lettuce, tomato, cheese, and toppings.\n",
      "Cuisine: Mexican\n",
      "Preparation Time: 15 minutes\n",
      "Cooking Time: 15 minutes\n",
      "----------------------------------------\n",
      "Name: Thai Tomatoes Power Bowl\n",
      "Main Ingredients: Tomatoes, Fish, Mushrooms\n",
      "All Ingredients: Tomatoes, Fish, Mushrooms, Garlic, Spices, Milk, Sugar\n",
      "Instructions: Prepare Tomatoes, Fish, Mushrooms. Cook with Tomatoes, Fish, Mushrooms, Garlic, Spices, Milk, Sugar. Season and serve.\n",
      "Cuisine: Thai\n",
      "Preparation Time: 25 minutes\n",
      "Cooking Time: 2 minutes\n",
      "----------------------------------------\n"
     ]
    }
   ],
   "source": [
    "for recipe in ms_cover_ingredients_search(ingredients, index, num_results=5, max_time=max_time):\n",
    "    print(f\"Name: {recipe['recipe_name']}\")\n",
    "    print(f\"Main Ingredients: {recipe['main_ingredients']}\")\n",
    "    print(f\"All Ingredients: {recipe['all_ingredients']}\")\n",
    "    print(f\"Instructions: {recipe['instructions']}\")\n",
    "    print(f\"Cuisine: {recipe['cuisine_type']}\")\n",
    "    print(f\"Preparation Time: {recipe['prep_time_minutes']} minutes\")\n",
    "    print(f\"Cooking Time: {recipe['cook_time_minutes']} minutes\")\n",
    "    print(\"-\" * 40)"
   ]
  },
  {
   "cell_type": "markdown",
   "id": "6172766b",
   "metadata": {},
   "source": [
    "#### 3.5. Retrieval Approach Conclusion:\n",
    "\n",
    "* MS Basic Search and MS Query Expansion Search both return only a single recipe, covering just a few of the provided ingredients and leaving most unused. This shows that simple keyword or synonym expansion is not sufficient for broad ingredient coverage.\n",
    "* MS Ingredient Search fails to return any results, indicating that boosting alone may be too restrictive or not well-tuned for this dataset/query.\n",
    "* MS Hybrid Search improves coverage, returning multiple recipes and using more of the provided ingredients, but still leaves several unused.\n",
    "* Cover Ingredients Search (as shown in the last block of results) is the most effective at maximizing ingredient usage, returning a diverse set of recipes that together cover nearly all the user's ingredients, with only a few left unused.\n",
    "\n",
    "For users who want to use as many of their ingredients as possible, Cover Ingredients Search is the best approach. Hybrid and basic/expansion searches are better for finding the most relevant individual recipes, but not for maximizing ingredient usage across a set. The combined approach (cover + hybrid) provides both diversity and relevance, making it the most robust for real-world recipe recommendations.\n"
   ]
  },
  {
   "cell_type": "markdown",
   "id": "b9938f61",
   "metadata": {},
   "source": [
    "### 4. OpenAI Integration and Minsearch RAG Flow\n",
    "Use OpenAI's language model to generate answers based on the context retrieved from Minsearch and later Elasticsearch."
   ]
  },
  {
   "cell_type": "markdown",
   "id": "be180bc9",
   "metadata": {},
   "source": [
    "#### 4.1. Build Prompt for the LLM Using Retrieved Context"
   ]
  },
  {
   "cell_type": "code",
   "execution_count": null,
   "id": "8ff730e7",
   "metadata": {},
   "outputs": [],
   "source": [
    "def build_prompt(query, search_results):\n",
    "    entry_template = \"\"\"\n",
    "Recipe: {recipe_name}\n",
    "Cuisine: {cuisine_type}\n",
    "Meal Type: {meal_type}\n",
    "Difficulty: {difficulty_level}\n",
    "Prep Time: {prep_time_minutes} minutes\n",
    "Cook Time: {cook_time_minutes} minutes\n",
    "Main Ingredients: {main_ingredients}\n",
    "Instructions: {instructions}\n",
    "Dietary Info: {dietary_restrictions}\n",
    "\"\"\".strip()\n",
    "    context = \"\\n\\n\".join([entry_template.format(**doc) for doc in search_results])\n",
    "    prompt_template = \"\"\"\n",
    "You are an expert chef and culinary assistant. Answer the question based on the content from our recipe database.\n",
    "Use only the facts from the context when answering the question.\n",
    "\n",
    "CONTEXT:\n",
    "{context}\n",
    "\n",
    "QUESTION: {question}\n",
    "\n",
    "Provide recipe recommendations with brief explanations of why they match the requested ingredients.\n",
    "If exact ingredients aren't available, suggest the closest matches and mention any substitutions needed.\n",
    "\"\"\".strip()\n",
    "    return prompt_template.format(context=context, question=query)"
   ]
  },
  {
   "cell_type": "markdown",
   "id": "ba2fa4bf",
   "metadata": {},
   "source": [
    "#### 4.2. LLM Call Function"
   ]
  },
  {
   "cell_type": "code",
   "execution_count": 9,
   "id": "f2477f8f",
   "metadata": {},
   "outputs": [],
   "source": [
    "def llm(prompt, model='gpt-4o-mini'):\n",
    "    response = client.chat.completions.create(\n",
    "        model=model,\n",
    "        messages=[{\"role\": \"user\", \"content\": prompt}]\n",
    "    )\n",
    "    return response.choices[0].message.content"
   ]
  },
  {
   "cell_type": "markdown",
   "id": "1ea0e940",
   "metadata": {},
   "source": [
    "#### 4.3. RAG Pipeline Using Minsearch\n",
    "Test ms_cover_ingredients_search and ms_hybrid_search on the RAG Pipeline."
   ]
  },
  {
   "cell_type": "code",
   "execution_count": null,
   "id": "9bb44644",
   "metadata": {},
   "outputs": [],
   "source": [
    "# DO I NEED THIS FOR EVALUATING ms_cover_then_hybrid_search?\n",
    "def rag_minsearch(query, max_time=None, num_results=5, approach=\"cover\"): \n",
    "    \"\"\"\n",
    "    approach: \"cover\" for ms_cover_ingredients_search, \"hybrid\" for ms_hybrid_search\n",
    "    Deduplicates results before building prompt.\n",
    "    \"\"\"\n",
    "    if approach == \"cover\":\n",
    "        search_results = ms_cover_ingredients_search(query, index=index, num_results=num_results, max_time=max_time)\n",
    "        deduped_results = deduplicate_results(search_results)\n",
    "    elif approach == \"hybrid\":\n",
    "        search_results = ms_hybrid_search(query, index=index, num_results=num_results, max_time=max_time)\n",
    "        deduped_results = deduplicate_results(search_results)\n",
    "    else:\n",
    "        raise ValueError(\"Unknown approach: choose 'cover' or 'hybrid'\")\n",
    "    prompt = build_prompt(query, deduped_results)\n",
    "    answer = llm(prompt)\n",
    "    return answer"
   ]
  },
  {
   "cell_type": "code",
   "execution_count": 47,
   "id": "b3b8ce09",
   "metadata": {},
   "outputs": [
    {
     "name": "stdout",
     "output_type": "stream",
     "text": [
      "Cover Ingredients Search:\n",
      "Based on the ingredients you provided, here are the recipe recommendations from the context, along with brief explanations for their compatibility:\n",
      "\n",
      "1. **African Pasta Roast**\n",
      "   - **Ingredients Used**: Pasta, Chicken, Garlic, Butter, Rice\n",
      "   - **Explanation**: This recipe matches well with the chicken, pasta, garlic, and butter you have. Since you mentioned rice as well, it is also included in the recipe, allowing for a complete match. You can omit any ingredient not listed explicitly if necessary.\n",
      "\n",
      "2. **African Lentils Tagine**\n",
      "   - **Ingredients Used**: Shrimp, Eggs, Onion, Sugar, Butter\n",
      "   - **Explanation**: This recipe makes use of shrimp and eggs from your list. Although lentils are not mentioned in your ingredients, you can incorporate them if you have them on hand. Sugar and onion are included, making it a suitable option.\n",
      "\n",
      "3. **African Potatoes Curry**\n",
      "   - **Ingredients Used**: Potatoes, Cheese, Milk\n",
      "   - **Explanation**: This recipe utilizes potatoes, cheese, and milk, all of which you have listed. Although it doesn't contain chicken or shrimp, it can provide a satisfying meal based on your available ingredients.\n",
      "\n",
      "4. **Beef Tacos**\n",
      "   - **Ingredients Used**: Ground Beef, Garlic (seasoning), Tortillas\n",
      "   - **Explanation**: While this recipe primarily requires ground beef and tortillas, you can consider omitting them for a vegetarian taco option by using your chicken instead and any vegetables you have on hand (like bell pepper, if available). This will provide a creative twist while still using garlic for flavor.\n",
      "\n",
      "If you wish to use other ingredients not included explicitly in the context (like tomatoes, fish, or chocolate), you may need to look beyond the recipes provided, as the specific context does not include recipes featuring those ingredients. Further customization and experimentation can lead to exciting dishes if you're willing to substitute or innovate!\n",
      "\n",
      "Hybrid Search:\n",
      "Based on the provided list of ingredients and the context of the recipes in our database, here are some recipe recommendations that fit some of the ingredients:\n",
      "\n",
      "1. **Thai Tomatoes Power Bowl**\n",
      "   - **Matching Ingredients**: Tomatoes, Fish, Garlic, Sugar\n",
      "   - **Explanation**: This recipe features tomatoes and fish as main ingredients, alongside garlic and sugar for flavor. The Thai Tomatoes Power Bowl is complex in its flavor profile but utilizes some ingredients from your list such as tomatoes and sugar. You would need to find a substitute for any missing ingredients, especially the unique spices specific to Thai cuisine.\n",
      "\n",
      "2. **African Pasta Roast**\n",
      "   - **Matching Ingredients**: Pasta, Chicken, Garlic, Butter\n",
      "   - **Explanation**: This recipe includes pasta and chicken, which matches your list. The inclusion of garlic and butter enhances the overall flavor. If you want to make this dish, you'll need to have garlic and butter readily available, and while it doesn't include tomatoes, you could incorporate them as a side or sauce.\n",
      "\n",
      "3. **Mediterranean Tomatoes Soup**\n",
      "   - **Matching Ingredients**: Tomatoes, Cheese, Chicken, Garlic, Milk\n",
      "   - **Explanation**: This soup includes tomatoes, chicken, garlic, and milk, aligning with several items from your list. If you have cheese, that fits perfectly as well. This recipe provides a wholesome option and leverages those ingredients well, although it requires cheese, which is not in your list.\n",
      "\n",
      "**Substitutions and Adjustments**:\n",
      "- If you wish to make the **Mediterranean Tomatoes Soup** but don't have cheese, you could try adding a dairy alternative or skip it altogether since the soup's base is primarily the tomatoes and chicken.\n",
      "- For the **African Pasta Roast**, if you are missing rice, you can choose to focus on just pasta and adjust the proportions accordingly.\n",
      "\n",
      "Unfortunately, none of the recipes in the database align entirely with the whole list of requested ingredients, but the above selections utilize several key components effectively while highlighting your existing stocks.\n"
     ]
    }
   ],
   "source": [
    "ingredients = \"tomato, flour, sugar, chicken, rice, butter, chocolate, shrimp, potatoes, eggs, milk, pasta, cheese, garlic, onion, bell pepper, fish, lemon, thyme\"\n",
    "max_time = 45\n",
    "print(\"Cover Ingredients Search:\")\n",
    "print(rag_minsearch(ingredients, max_time=max_time, approach=\"cover\"))\n",
    "print(\"\\nHybrid Search:\")\n",
    "print(rag_minsearch(ingredients, max_time=max_time, approach=\"hybrid\"))"
   ]
  },
  {
   "cell_type": "markdown",
   "id": "d5c6241d",
   "metadata": {},
   "source": [
    "#### 4.4. Minsearch RAG Pipeline Conclusion\n",
    "\n",
    "* Cover Ingredients Search provides a diverse set of recipes that, together, maximize the use of the available ingredients. It selects recipes so that, across the set, most ingredients are used at least once. This approach is best when the goal is to use as many of ingredients as possible, even if no single recipe uses them all. It also offers suggestions for substitutions and creative adaptations.\n",
    "\n",
    "* Hybrid Search surfaces recipes that are individually the most semantically relevant to the ingredient list. These recipes tend to match several of the main ingredients and provide strong conceptual alignment, but may not maximize overall ingredient coverage across multiple recipes. Hybrid Search is best when you want the most relevant single recipes for the main ingredients.\n",
    "\n",
    "Use Cover Ingredients Search when you want to minimize waste and use a broad range of ingredients across several recipes. Use Hybrid Search when you want the most relevant or conceptually similar recipes, even if some ingredients are left unused. Neither approach will always use every ingredient, but Cover Ingredients Search will typically leave fewer unused items."
   ]
  },
  {
   "cell_type": "markdown",
   "id": "4df94458",
   "metadata": {},
   "source": [
    "#### 4.5. Combine Cover and Hybrid RAG Pipelines (Minsearch)\n",
    "\n",
    "Combine the two approaches by first running Cover Ingredients Search to select a diverse set of recipes that cover as many ingredients as possible, and then passing those results through the Hybrid Search to rerank or filter them by semantic relevance."
   ]
  },
  {
   "cell_type": "code",
   "execution_count": null,
   "id": "1102057a",
   "metadata": {},
   "outputs": [],
   "source": [
    "\n",
    "def ms_cover_then_hybrid_search(query, index, num_results=5, max_time=None, hybrid_top_k=5):\n",
    "    \"\"\"\n",
    "    Combine Cover Ingredients Search and Hybrid Search:\n",
    "    1. Run Cover Ingredients Search to get a diverse set of recipes (pool size = num_results*4).\n",
    "    2. Rerank the pool by semantic similarity to the query using OpenAI embeddings.\n",
    "    3. Deduplicate results before returning.\n",
    "    \"\"\"\n",
    "    # Step 1: Cover Ingredients Search to get a diverse set and increase the pool size\n",
    "    cover_results = ms_cover_ingredients_search(query, index, num_results=num_results*4, max_time=max_time)\n",
    "    if not cover_results:\n",
    "        return []\n",
    "    # Step 2: Hybrid Search, but restrict to cover_results as the candidate pool\n",
    "    # Compute embedding for the query\n",
    "    query_emb = get_embedding(query)\n",
    "    # Compute similarities only for cover_results\n",
    "    cover_embeddings = [get_embedding(doc['all_ingredients']) for doc in cover_results]\n",
    "    similarities = [np.dot(query_emb, emb) for emb in cover_embeddings]\n",
    "    # Get top-k by semantic similarity\n",
    "    top_indices = np.argsort(similarities)[-hybrid_top_k:][::-1]\n",
    "    # The hybrid logic is built into the similarity ranking (symbolic/keyword + neural/embedding/semantic)\n",
    "    hybrid_results = [cover_results[i] for i in top_indices]\n",
    "    # Deduplicate before returning (defensive, in case of overlap)\n",
    "    deduped_results = deduplicate_results(hybrid_results[:num_results])\n",
    "    return deduped_results"
   ]
  },
  {
   "cell_type": "code",
   "execution_count": 49,
   "id": "f59a4852",
   "metadata": {},
   "outputs": [
    {
     "name": "stdout",
     "output_type": "stream",
     "text": [
      "Cover + Hybrid Search:\n",
      "[{'recipe_name': 'Thai Tomatoes Power Bowl', 'cuisine_type': 'Thai', 'meal_type': 'Lunch', 'difficulty_level': 'Hard', 'prep_time_minutes': 25, 'cook_time_minutes': 2, 'servings': 2, 'main_ingredients': 'Tomatoes, Fish, Mushrooms', 'all_ingredients': 'Tomatoes, Fish, Mushrooms, Garlic, Spices, Milk, Sugar', 'dietary_restrictions': 'Contains nuts, Low-carb', 'instructions': 'Prepare Tomatoes, Fish, Mushrooms. Cook with Tomatoes, Fish, Mushrooms, Garlic, Spices, Milk, Sugar. Season and serve.', 'nutritional_info': 'Calories: 359, Protein: 27g, Carbs: 75g, Fat: 16g', 'id': 19}, {'recipe_name': 'African Pasta Roast', 'cuisine_type': 'African', 'meal_type': 'Breakfast', 'difficulty_level': 'Medium', 'prep_time_minutes': 21, 'cook_time_minutes': 3, 'servings': 5, 'main_ingredients': 'Pasta, Rice, Chicken', 'all_ingredients': 'Pasta, Rice, Chicken, Butter, Flour, Garlic, Soy Sauce', 'dietary_restrictions': 'Contains shellfish', 'instructions': 'Prepare Pasta, Rice, Chicken. Cook with Pasta, Rice, Chicken, Butter, Flour, Garlic, Soy Sauce. Season and serve.', 'nutritional_info': 'Calories: 320, Protein: 35g, Carbs: 44g, Fat: 6g', 'id': 235}, {'recipe_name': 'African Lentils Tagine', 'cuisine_type': 'African', 'meal_type': 'Lunch', 'difficulty_level': 'Hard', 'prep_time_minutes': 23, 'cook_time_minutes': 4, 'servings': 2, 'main_ingredients': 'Lentils, Shrimp, Eggs', 'all_ingredients': 'Lentils, Shrimp, Eggs, Butter, Yogurt, Sugar, Onion', 'dietary_restrictions': 'Contains shellfish, Kosher', 'instructions': 'Prepare Lentils, Shrimp, Eggs. Cook with Lentils, Shrimp, Eggs, Butter, Yogurt, Sugar, Onion. Season and serve.', 'nutritional_info': 'Calories: 450, Protein: 32g, Carbs: 66g, Fat: 14g', 'id': 63}, {'recipe_name': 'African Potatoes Curry', 'cuisine_type': 'African', 'meal_type': 'Dinner', 'difficulty_level': 'Hard', 'prep_time_minutes': 12, 'cook_time_minutes': 13, 'servings': 7, 'main_ingredients': 'Potatoes, Beef, Cheese', 'all_ingredients': 'Potatoes, Beef, Cheese, Herbs, Yogurt, Honey, Milk', 'dietary_restrictions': 'Paleo, Halal', 'instructions': 'Prepare Potatoes, Beef, Cheese. Cook with Potatoes, Beef, Cheese, Herbs, Yogurt, Honey, Milk. Season and serve.', 'nutritional_info': 'Calories: 406, Protein: 35g, Carbs: 24g, Fat: 18g', 'id': 33}, {'recipe_name': 'Beef Tacos', 'cuisine_type': 'Mexican', 'meal_type': 'Dinner', 'difficulty_level': 'Easy', 'prep_time_minutes': 15, 'cook_time_minutes': 15, 'servings': 4, 'main_ingredients': 'Ground Beef, Tortillas', 'all_ingredients': 'Ground Beef, Taco Seasoning, Corn Tortillas, Lettuce, Tomato, Cheese, Sour Cream, Salsa', 'dietary_restrictions': 'Contains gluten, dairy (if flour tortillas/cheese used)', 'instructions': 'Brown beef with seasoning. Warm tortillas. Assemble tacos with beef, lettuce, tomato, cheese, and toppings.', 'nutritional_info': 'Calories: 420, Protein: 24g, Carbs: 38g, Fat: 18g', 'id': 4}]\n"
     ]
    }
   ],
   "source": [
    "ingredients = \"tomato, flour, sugar, chicken, rice, butter, chocolate, shrimp, potatoes, eggs, milk, pasta, cheese, garlic, onion, bell pepper, fish, lemon, thyme\"\n",
    "max_time = 45\n",
    "print(\"Cover + Hybrid Search:\")\n",
    "print(ms_cover_then_hybrid_search(ingredients, index, num_results=5, max_time=max_time))"
   ]
  },
  {
   "cell_type": "markdown",
   "id": "f933e301",
   "metadata": {},
   "source": [
    "#### 4.6. Conclusion of Combined Approach (Cover + Hybrid Search):\n",
    "\n",
    "The combined Cover + Hybrid Search approach successfully returns a set of recipes that:\n",
    "\n",
    "* Maximize ingredient coverage: Across the five recipes, most of the user's provided ingredients are used at least once, minimizing waste and increasing the likelihood that the user can cook with what they have.\n",
    "* Balance diversity and relevance: The recipes span multiple cuisines (Thai, African, Mexican) and meal types, showing diversity, while also being semantically relevant to the input ingredient list.\n",
    "* Provide practical options: Even if no single recipe uses all ingredients, the set as a whole covers a broad range, and each recipe is a strong match for a subset of the user's ingredients.\n",
    "\n",
    "The combined approach is more robust than using either Cover Ingredients Search or Hybrid Search alone. It is ideal for users who want both high ingredient utilization and relevant, varied recipe recommendations. This makes it well-suited for real-world recipe assistant scenarios."
   ]
  },
  {
   "cell_type": "markdown",
   "id": "aeb05953",
   "metadata": {},
   "source": [
    "### 5. Elasticsearch: Production-Grade Search Engine\n",
    "Elasticsearch is a powerful, scalable, distributed search engine designed for production use, large datasets, and advanced search features.\n",
    "It requires running a server and is suitable for real-world applications where persistence, scalability, and advanced querying are needed."
   ]
  },
  {
   "cell_type": "markdown",
   "id": "c7a38e17",
   "metadata": {},
   "source": [
    "#### 5.1. Elasticsearch Docker, Client and Indexing"
   ]
  },
  {
   "cell_type": "markdown",
   "id": "c6c4ba13",
   "metadata": {},
   "source": [
    "Run docker in terminal:\n",
    "\n",
    "`docker run -d --name elasticsearch -p 9200:9200 -e \"discovery.type=single-node\" docker.elastic.co/elasticsearch/elasticsearch:8.13.4`\n",
    "\n",
    "Or:\n",
    "\n",
    "`docker run -d --name elasticsearch \\\n",
    "  -p 9200:9200 \\\n",
    "  -e \"discovery.type=single-node\" \\\n",
    "  -e \"xpack.security.enabled=false\" \\\n",
    "  -e \"ES_JAVA_OPTS=-Xms512m -Xmx1g\" \\\n",
    "  docker.elastic.co/elasticsearch/elasticsearch:8.13.4`\n",
    "\n",
    "And check if Elasticsearch is up:\n",
    "\n",
    "`curl http://localhost:9200`"
   ]
  },
  {
   "cell_type": "code",
   "execution_count": 10,
   "id": "86d1ba66",
   "metadata": {},
   "outputs": [],
   "source": [
    "from elasticsearch import Elasticsearch\n",
    "from tqdm.auto import tqdm\n",
    "\n",
    "# Create Elasticsearch Client (make sure Elasticsearch is running locally)\n",
    "es_client = Elasticsearch('http://localhost:9200')"
   ]
  },
  {
   "cell_type": "code",
   "execution_count": null,
   "id": "f41a124d",
   "metadata": {},
   "outputs": [
    {
     "name": "stdout",
     "output_type": "stream",
     "text": [
      "Index may already exist: BadRequestError(400, 'resource_already_exists_exception', 'index [recipes/7f3OhyhISIGjhfTsVnRwfA] already exists')\n"
     ]
    }
   ],
   "source": [
    "# Define Elasticsearch index settings and mappings for recipes\n",
    "index_settings = {\n",
    "    \"settings\": {\n",
    "        \"number_of_shards\": 1, # A unit of storage and search. More shards can improve parallelism for large datasets\n",
    "        \"number_of_replicas\": 0 # A shard copy for fault tolerance and increased search throughput (not recommended for production)\n",
    "    },\n",
    "    \"mappings\": {\n",
    "        \"properties\": {\n",
    "            \"recipe_name\": {\"type\": \"text\"},\n",
    "            \"main_ingredients\": {\"type\": \"text\"},\n",
    "            \"all_ingredients\": {\"type\": \"text\"},\n",
    "            \"instructions\": {\"type\": \"text\"},\n",
    "            \"cuisine_type\": {\"type\": \"text\"},\n",
    "            \"dietary_restrictions\": {\"type\": \"text\"},\n",
    "            \"meal_type\": {\"type\": \"keyword\"},\n",
    "            \"difficulty_level\": {\"type\": \"keyword\"},\n",
    "            \"prep_time_minutes\": {\"type\": \"integer\"},\n",
    "            \"cook_time_minutes\": {\"type\": \"integer\"},\n",
    "            \"all_ingredients_vector\": {\n",
    "                \"type\": \"dense_vector\",\n",
    "                \"dims\": 1536  # text-embedding-3-small returns 1536-dimensional vectors\n",
    "}\n",
    "        }\n",
    "    }\n",
    "}\n",
    "\n",
    "index_name = \"recipes\"\n",
    "\n",
    "# Create the index (ignore error if it already exists)\n",
    "try:\n",
    "    es_client.indices.create(index=index_name, body=index_settings)\n",
    "except Exception as e:\n",
    "    print(\"Index may already exist:\", e)"
   ]
  },
  {
   "cell_type": "code",
   "execution_count": 12,
   "id": "669f93a1",
   "metadata": {},
   "outputs": [
    {
     "name": "stdout",
     "output_type": "stream",
     "text": [
      "(1536,)\n"
     ]
    }
   ],
   "source": [
    "def get_embedding(text):\n",
    "    response = client.embeddings.create(\n",
    "        model=\"text-embedding-3-small\",\n",
    "        input=[text]\n",
    "    )\n",
    "    return np.array(response.data[0].embedding)\n",
    "\n",
    "emb = get_embedding(\"test\")\n",
    "print(emb.shape)  # Should print (1536,)"
   ]
  },
  {
   "cell_type": "code",
   "execution_count": 13,
   "id": "31c7fee3",
   "metadata": {},
   "outputs": [
    {
     "data": {
      "application/vnd.jupyter.widget-view+json": {
       "model_id": "7e61f8d6af644830bca87af0f2bd9a89",
       "version_major": 2,
       "version_minor": 0
      },
      "text/plain": [
       "  0%|          | 0/477 [00:00<?, ?it/s]"
      ]
     },
     "metadata": {},
     "output_type": "display_data"
    }
   ],
   "source": [
    "# Index documents into Elasticsearch, including the embedding vector\n",
    "for doc in tqdm(documents):\n",
    "    doc['all_ingredients_vector'] = get_embedding(doc['all_ingredients']).tolist()\n",
    "    es_client.index(index=index_name, document=doc)"
   ]
  },
  {
   "cell_type": "markdown",
   "id": "5bc64395",
   "metadata": {},
   "source": [
    "#### 5.2. Build Elasticsearch Index and Run Simple Retrieval Strategies"
   ]
  },
  {
   "cell_type": "markdown",
   "id": "a2deec0e",
   "metadata": {},
   "source": [
    "##### Approach 1: Basic Keyword Search\n",
    "\n",
    "Returns recipes that match the query using simple keyword matching across all fields.\n"
   ]
  },
  {
   "cell_type": "code",
   "execution_count": null,
   "id": "7febe444",
   "metadata": {},
   "outputs": [],
   "source": [
    "# Basic Search\n",
    "def es_basic_search(query, num_results=5, max_time=None):\n",
    "    search_query = {\n",
    "        \"size\": num_results * 2,  # get more to allow filtering\n",
    "        \"query\": {\n",
    "            \"multi_match\": {\n",
    "                \"query\": query,\n",
    "                \"fields\": [ # Elasticsearch's multi_match query is for text searching\n",
    "                    \"recipe_name\",\n",
    "                    \"main_ingredients^2\",\n",
    "                    \"all_ingredients^3\",\n",
    "                    \"instructions^1.5\",\n",
    "                    \"cuisine_type\",\n",
    "                    \"dietary_restrictions^1.5\"\n",
    "                ],\n",
    "                \"type\": \"best_fields\" # default, can be \"most_fields\", \"cross_fields\", etc.\n",
    "            }\n",
    "        }\n",
    "    }\n",
    "    response = es_client.search(index=index_name, body=search_query)\n",
    "    result_docs = []\n",
    "    for hit in response['hits']['hits']:\n",
    "        result_docs.append(hit['_source'])\n",
    "    # Apply time filter\n",
    "    if max_time is not None:\n",
    "        result_docs = filter_by_max_time(result_docs, max_time)\n",
    "    return result_docs[:num_results]"
   ]
  },
  {
   "cell_type": "markdown",
   "id": "68185b56",
   "metadata": {},
   "source": [
    "##### Approach 2: Boosting Search\n",
    "\n",
    "Similar to basic, but gives more weight to important fields."
   ]
  },
  {
   "cell_type": "code",
   "execution_count": 15,
   "id": "d8dbda72",
   "metadata": {},
   "outputs": [],
   "source": [
    "# Boosted Field Search\n",
    "def es_boosting_search(query, num_results=5, max_time=None):\n",
    "    search_query = {\n",
    "        \"size\": num_results * 2,\n",
    "        \"query\": {\n",
    "            \"multi_match\": {\n",
    "                \"query\": query,\n",
    "                \"fields\": [\n",
    "                    \"recipe_name\",\n",
    "                    \"main_ingredients^4\",\n",
    "                    \"all_ingredients^5\",\n",
    "                    \"instructions^3\",\n",
    "                    \"cuisine_type\",\n",
    "                    \"dietary_restrictions^2\"\n",
    "                ],\n",
    "                \"type\": \"best_fields\"\n",
    "            }\n",
    "        }\n",
    "    }\n",
    "    response = es_client.search(index=index_name, body=search_query)\n",
    "    result_docs = [hit['_source'] for hit in response['hits']['hits']]\n",
    "    if max_time is not None:\n",
    "        result_docs = filter_by_max_time(result_docs, max_time)\n",
    "    return result_docs[:num_results]"
   ]
  },
  {
   "cell_type": "markdown",
   "id": "f534f523",
   "metadata": {},
   "source": [
    "##### Approach 3: Query Expansion search\n",
    "\n",
    "Expands the query with synonyms (e.g., \"chicken\" → \"poultry\", \"breast\") before searching, to improve recall using es_basic_search."
   ]
  },
  {
   "cell_type": "code",
   "execution_count": 21,
   "id": "ebf585ac",
   "metadata": {},
   "outputs": [],
   "source": [
    "# Query Expansion (with synonyms)\n",
    "def es_expansion_search(query, num_results=5, max_time=None):\n",
    "    # Simple synonym expansion (can be replaced with a more advanced method)\n",
    "    synonyms = {\n",
    "        'chicken': ['poultry', 'fowl', 'breast', 'thigh'],\n",
    "        'pasta': ['noodles', 'spaghetti', 'linguine', 'vermicelli', 'orzo', 'macaroni'],\n",
    "        'tomatoes': ['tomato', 'roma', 'cherry tomatoes', 'heirloom'],\n",
    "        'beef': ['steak', 'ground beef', 'brisket', 'sirloin'],\n",
    "        'potatoes': ['spuds', 'russet', 'yukon', 'sweet potatoes'],\n",
    "        'cheese': ['cheddar', 'mozzarella', 'parmesan', 'feta', 'gruyere'],\n",
    "        'onion': ['onions', 'red onion', 'yellow onion', 'shallot'],\n",
    "        'rice': ['basmati', 'jasmine', 'arborio', 'brown rice'],\n",
    "        'shrimp': ['prawns', 'shellfish', 'seafood'],\n",
    "        'eggs': ['egg', 'yolk', 'whites'],\n",
    "        'herbs': ['basil', 'oregano', 'thyme', 'rosemary']\n",
    "    }\n",
    "    tokens = query.lower().split()\n",
    "    expanded_tokens = tokens.copy()\n",
    "    for token in tokens:\n",
    "        if token in synonyms:\n",
    "            expanded_tokens.extend(synonyms[token][:2])\n",
    "    expanded_query = ' '.join(expanded_tokens)\n",
    "    return es_basic_search(expanded_query, num_results=num_results, max_time=max_time)"
   ]
  },
  {
   "cell_type": "markdown",
   "id": "3aba191f",
   "metadata": {},
   "source": [
    "#### 5.3. Advanced Retrieval Strategies\n",
    "Below are advanced retrieval strategies that allow for more flexible, robust, and user-friendly recipe search."
   ]
  },
  {
   "cell_type": "markdown",
   "id": "0ac7987a",
   "metadata": {},
   "source": [
    "##### Approach 4: Hybrid Search With OpenAI (Keyword + Embedding)\n",
    "Combines keyword and with OpenAI's embedding-based (semantic) similarity for more robust retrieval."
   ]
  },
  {
   "cell_type": "code",
   "execution_count": 20,
   "id": "66440240",
   "metadata": {},
   "outputs": [],
   "source": [
    "# Hybrid Search (keyword + vector, requires Elasticsearch vector plugin and precomputed vectors)\n",
    "def es_hybrid_search(query, num_results=5, max_time=None):\n",
    "    # This assumes you have a vector field called 'all_ingredients_vector' in your index\n",
    "    # and a function get_embedding(text) that returns a vector for the query.\n",
    "    query_vector = get_embedding(query).tolist()\n",
    "    search_query = {\n",
    "        \"size\": num_results * 2,\n",
    "        \"query\": {\n",
    "            \"script_score\": {\n",
    "                \"query\": {\n",
    "                    \"multi_match\": {\n",
    "                        \"query\": query,\n",
    "                        \"fields\": [\n",
    "                            \"main_ingredients^2\",\n",
    "                            \"all_ingredients^3\",\n",
    "                            \"instructions^1.5\",\n",
    "                            \"cuisine_type\",\n",
    "                            \"dietary_restrictions^1.5\",\n",
    "                            \"recipe_name\"\n",
    "                        ],\n",
    "                        \"type\": \"best_fields\"\n",
    "                    }\n",
    "                },\n",
    "                \"script\": {\n",
    "                    \"source\": \"cosineSimilarity(params.query_vector, 'all_ingredients_vector') + 1.0\",\n",
    "                    \"params\": {\"query_vector\": query_vector},\n",
    "                }\n",
    "            }\n",
    "        }\n",
    "    }\n",
    "    response = es_client.search(index=index_name, body=search_query)\n",
    "    result_docs = [hit['_source'] for hit in response['hits']['hits']]\n",
    "    if max_time is not None:\n",
    "        result_docs = filter_by_max_time(result_docs, max_time)\n",
    "    # Deduplicate before returning (recommended for hybrid search)\n",
    "    deduped_results = deduplicate_results(result_docs)\n",
    "    return deduped_results[:num_results]"
   ]
  },
  {
   "cell_type": "markdown",
   "id": "ee7ed8a8",
   "metadata": {},
   "source": [
    "##### Approach 5: Cover Ingredients Search\n",
    "Elasticsearch queries return a ranked list based on scoring, but do not natively support iterative, set-cover-style selection across multiple results. A workaround is to retrieve many candidates from Elasticsearch, then run the cover algorithm in Python on those results."
   ]
  },
  {
   "cell_type": "code",
   "execution_count": 21,
   "id": "7f3b6774",
   "metadata": {},
   "outputs": [],
   "source": [
    "def es_cover_ingredients_search(query, num_results=5, max_time=None, candidate_pool_size=200):\n",
    "    \"\"\"\n",
    "    Simulate Cover Ingredients Search using Elasticsearch results, with optional time filtering.\n",
    "    Returns a set of recipes that together cover as many of the query ingredients as possible.\n",
    "    Deduplicates results before returning.\n",
    "    \"\"\"\n",
    "    # Step 1: Get a large pool of candidates from ES (basic search, large pool)\n",
    "    candidates = es_basic_search(query, num_results=candidate_pool_size)\n",
    "    # Step 2: Filter by time if needed\n",
    "    if max_time is not None:\n",
    "        candidates = filter_by_max_time(candidates, max_time)\n",
    "    # Step 3: Apply greedy cover algorithm\n",
    "    query_tokens = set(re.sub(r'[^\\w\\s]', '', query.lower()).replace(',', ' ').split())\n",
    "    uncovered = set(query_tokens)\n",
    "    selected = []\n",
    "    docs = candidates.copy()\n",
    "    while uncovered and len(selected) < num_results and docs:\n",
    "        best_doc = None\n",
    "        best_overlap = 0\n",
    "        for doc in docs:\n",
    "            ingredients = set(re.sub(r'[^\\w\\s]', '', str(doc.get('all_ingredients', '')).lower()).replace(',', ' ').split())\n",
    "            overlap = len(uncovered & ingredients)\n",
    "            if overlap > best_overlap:\n",
    "                best_overlap = overlap\n",
    "                best_doc = doc\n",
    "        if best_doc and best_overlap > 0:\n",
    "            selected.append(best_doc)\n",
    "            ingredients = set(re.sub(r'[^\\w\\s]', '', str(best_doc.get('all_ingredients', '')).lower()).replace(',', ' ').split())\n",
    "            uncovered -= ingredients\n",
    "            docs.remove(best_doc)\n",
    "        else:\n",
    "            break\n",
    "    # Deduplicate results before returning (recommended if docs may have overlap)\n",
    "    deduped_results = deduplicate_results(selected)\n",
    "    return deduped_results"
   ]
  },
  {
   "cell_type": "markdown",
   "id": "765ce478",
   "metadata": {},
   "source": [
    "##### Approach 6: Filtering (by time, dietary restrictions)\n",
    "Allows for results filtering by both time and dietary restriction using Elasticsearch's query DSL."
   ]
  },
  {
   "cell_type": "code",
   "execution_count": 32,
   "id": "6cc6e50c",
   "metadata": {},
   "outputs": [],
   "source": [
    "def es_filtered_search(query, num_results=5, max_time=None, dietary_restriction=None):\n",
    "    \"\"\"\n",
    "    Filtered search using Elasticsearch's query DSL.\n",
    "    Allows filtering by both time and dietary restriction.\n",
    "    Deduplicates results before returning.\n",
    "    \"\"\"\n",
    "    must_clauses = [\n",
    "        {\"multi_match\": {\n",
    "            \"query\": query,\n",
    "            \"fields\": [\n",
    "                \"main_ingredients^2\",\n",
    "                \"all_ingredients^3\",\n",
    "                \"instructions^1.5\",\n",
    "                \"cuisine_type\",\n",
    "                \"dietary_restrictions^1.5\",\n",
    "                \"recipe_name\"\n",
    "            ],\n",
    "            \"type\": \"best_fields\"\n",
    "        }}\n",
    "    ]\n",
    "    if dietary_restriction:\n",
    "        must_clauses.append({\n",
    "            \"match\": {\"dietary_restrictions\": dietary_restriction}\n",
    "        })\n",
    "    search_query = {\n",
    "        \"size\": num_results * 2,\n",
    "        \"query\": {\n",
    "            \"bool\": {\n",
    "                \"must\": must_clauses\n",
    "            }\n",
    "        }\n",
    "    }\n",
    "    response = es_client.search(index=index_name, body=search_query)\n",
    "    result_docs = [hit['_source'] for hit in response['hits']['hits']]\n",
    "    if max_time is not None:\n",
    "        result_docs = filter_by_max_time(result_docs, max_time)\n",
    "    # Deduplicate before returning (recommended for filtered search)\n",
    "    deduped_results = deduplicate_results(result_docs)\n",
    "    return deduped_results[:num_results]"
   ]
  },
  {
   "cell_type": "markdown",
   "id": "69865066",
   "metadata": {},
   "source": [
    "##### Approach 7: Custom Scoring (function_score)\n",
    "Adds scoring functions (e.g., penalizing higher prep/cook times) to the text relevance score, so recipes with lower prep/cook times are ranked higher."
   ]
  },
  {
   "cell_type": "code",
   "execution_count": 33,
   "id": "70d01991",
   "metadata": {},
   "outputs": [],
   "source": [
    "def es_custom_score_search(query, num_results=5, max_time=None):\n",
    "    \"\"\"\n",
    "    Custom scoring search using Elasticsearch's function_score.\n",
    "    Adds scoring functions (e.g., penalizing higher prep/cook times) to the text relevance score,\n",
    "    so recipes with lower prep/cook times are ranked higher.\n",
    "    Deduplicates results before returning.\n",
    "    \"\"\"\n",
    "    search_query = {\n",
    "        \"size\": num_results * 2,\n",
    "        \"query\": {\n",
    "            \"function_score\": {  # Custom Scoring\n",
    "                \"query\": {\n",
    "                    \"multi_match\": {\n",
    "                        \"query\": query,\n",
    "                        \"fields\": [\n",
    "                            \"main_ingredients^2\",\n",
    "                            \"all_ingredients^3\",\n",
    "                            \"instructions^1.5\",\n",
    "                            \"cuisine_type\",\n",
    "                            \"dietary_restrictions^1.5\",\n",
    "                            \"recipe_name\"\n",
    "                        ],\n",
    "                        \"type\": \"best_fields\"\n",
    "                    }\n",
    "                },\n",
    "                \"boost_mode\": \"sum\",\n",
    "                \"score_mode\": \"sum\",\n",
    "                \"functions\": [\n",
    "                    {\n",
    "                        \"field_value_factor\": {\n",
    "                            \"field\": \"prep_time_minutes\",\n",
    "                            \"factor\": 1.0,\n",
    "                            \"modifier\": \"reciprocal\",  # Prefer lower prep time\n",
    "                            \"missing\": 1\n",
    "                        }\n",
    "                    },\n",
    "                    {\n",
    "                        \"field_value_factor\": {\n",
    "                            \"field\": \"cook_time_minutes\",\n",
    "                            \"factor\": 1.0,\n",
    "                            \"modifier\": \"reciprocal\",  # Prefer lower cook time\n",
    "                            \"missing\": 1\n",
    "                        }\n",
    "                    }\n",
    "                ]\n",
    "            }\n",
    "        }\n",
    "    }\n",
    "    response = es_client.search(index=index_name, body=search_query)\n",
    "    result_docs = [hit['_source'] for hit in response['hits']['hits']]\n",
    "    if max_time is not None:\n",
    "        result_docs = filter_by_max_time(result_docs, max_time)\n",
    "    # Deduplicate before returning (recommended for custom score search)\n",
    "    deduped_results = deduplicate_results(result_docs)\n",
    "    return deduped_results[:num_results]"
   ]
  },
  {
   "cell_type": "markdown",
   "id": "f6da6970",
   "metadata": {},
   "source": [
    "#### 5.4. Test All Retrieval Approaches:\n",
    "Seach retrieval approaches manually with a random ingredient list."
   ]
  },
  {
   "cell_type": "code",
   "execution_count": 34,
   "id": "654e2783",
   "metadata": {},
   "outputs": [
    {
     "name": "stdout",
     "output_type": "stream",
     "text": [
      "ES Basic Search:\n",
      "{'recipe_name': 'Avocado Toast', 'cuisine_type': 'American', 'meal_type': 'Breakfast', 'difficulty_level': 'Easy', 'prep_time_minutes': 5, 'cook_time_minutes': 0, 'servings': 1, 'main_ingredients': 'Bread, Avocado', 'all_ingredients': 'Whole-grain Bread, Ripe Avocado, Lemon Juice, Salt, Pepper, Olive Oil', 'dietary_restrictions': 'Vegetarian, Vegan', 'instructions': 'Toast bread slices. Mash avocado with lemon juice, salt, and pepper. Spread on toast and drizzle with olive oil.', 'nutritional_info': 'Calories: 280, Protein: 6g, Carbs: 28g, Fat: 16g', 'id': 2}\n",
      "Unused ingredients: bell pepper, thyme, butter, shrimp, garlic, onion, potatoes, tomato, pasta, sugar, flour, chocolate, cheese, rice, chicken, milk, lemon, eggs, fish\n",
      "ES Boosting Search:\n",
      "{'recipe_name': 'Avocado Toast', 'cuisine_type': 'American', 'meal_type': 'Breakfast', 'difficulty_level': 'Easy', 'prep_time_minutes': 5, 'cook_time_minutes': 0, 'servings': 1, 'main_ingredients': 'Bread, Avocado', 'all_ingredients': 'Whole-grain Bread, Ripe Avocado, Lemon Juice, Salt, Pepper, Olive Oil', 'dietary_restrictions': 'Vegetarian, Vegan', 'instructions': 'Toast bread slices. Mash avocado with lemon juice, salt, and pepper. Spread on toast and drizzle with olive oil.', 'nutritional_info': 'Calories: 280, Protein: 6g, Carbs: 28g, Fat: 16g', 'id': 2}\n",
      "Unused ingredients: bell pepper, thyme, butter, shrimp, garlic, onion, potatoes, tomato, pasta, sugar, flour, chocolate, cheese, rice, chicken, milk, lemon, eggs, fish\n",
      "ES Query Expansion Search:\n",
      "{'recipe_name': 'Avocado Toast', 'cuisine_type': 'American', 'meal_type': 'Breakfast', 'difficulty_level': 'Easy', 'prep_time_minutes': 5, 'cook_time_minutes': 0, 'servings': 1, 'main_ingredients': 'Bread, Avocado', 'all_ingredients': 'Whole-grain Bread, Ripe Avocado, Lemon Juice, Salt, Pepper, Olive Oil', 'dietary_restrictions': 'Vegetarian, Vegan', 'instructions': 'Toast bread slices. Mash avocado with lemon juice, salt, and pepper. Spread on toast and drizzle with olive oil.', 'nutritional_info': 'Calories: 280, Protein: 6g, Carbs: 28g, Fat: 16g', 'id': 2}\n",
      "Unused ingredients: bell pepper, thyme, butter, shrimp, garlic, onion, potatoes, tomato, pasta, sugar, flour, chocolate, cheese, rice, chicken, milk, lemon, eggs, fish\n",
      "ES Hybrid Search:\n",
      "{'recipe_name': 'Thai Tomatoes Power Bowl', 'cuisine_type': 'Thai', 'meal_type': 'Lunch', 'difficulty_level': 'Hard', 'prep_time_minutes': 25, 'cook_time_minutes': 2, 'servings': 2, 'main_ingredients': 'Tomatoes, Fish, Mushrooms', 'all_ingredients': 'Tomatoes, Fish, Mushrooms, Garlic, Spices, Milk, Sugar', 'dietary_restrictions': 'Contains nuts, Low-carb', 'instructions': 'Prepare Tomatoes, Fish, Mushrooms. Cook with Tomatoes, Fish, Mushrooms, Garlic, Spices, Milk, Sugar. Season and serve.', 'nutritional_info': 'Calories: 359, Protein: 27g, Carbs: 75g, Fat: 16g', 'id': 19}\n",
      "{'recipe_name': 'Mediterranean Tomatoes Soup', 'cuisine_type': 'Mediterranean', 'meal_type': 'Breakfast', 'difficulty_level': 'Hard', 'prep_time_minutes': 10, 'cook_time_minutes': 22, 'servings': 1, 'main_ingredients': 'Tomatoes, Cheese, Chicken', 'all_ingredients': 'Tomatoes, Cheese, Chicken, Garlic, Milk, Soy Sauce, Sugar', 'dietary_restrictions': 'Contains dairy, Low-carb, Gluten-free', 'instructions': 'Prepare Tomatoes, Cheese, Chicken. Cook with Tomatoes, Cheese, Chicken, Garlic, Milk, Soy Sauce, Sugar. Season and serve.', 'nutritional_info': 'Calories: 216, Protein: 36g, Carbs: 40g, Fat: 7g', 'id': 255}\n",
      "Unused ingredients: bell pepper, thyme, butter, onion, shrimp, potatoes, tomato, pasta, lemon, eggs, rice, flour, chocolate\n",
      "ES Cover Ingredients Search:\n",
      "African Pasta Roast - Pasta, Rice, Chicken, Butter, Flour, Garlic, Soy Sauce\n",
      "African Lentils Tagine - Lentils, Shrimp, Eggs, Butter, Yogurt, Sugar, Onion\n",
      "African Potatoes Curry - Potatoes, Beef, Cheese, Herbs, Yogurt, Honey, Milk\n",
      "Avocado Toast - Whole-grain Bread, Ripe Avocado, Lemon Juice, Salt, Pepper, Olive Oil\n",
      "Middle Eastern Pork Crumble - Pork, Fish, Cheese, Cream, Butter, Onion, Honey\n",
      "{'recipe_name': 'African Pasta Roast', 'cuisine_type': 'African', 'meal_type': 'Breakfast', 'difficulty_level': 'Medium', 'prep_time_minutes': 21, 'cook_time_minutes': 3, 'servings': 5, 'main_ingredients': 'Pasta, Rice, Chicken', 'all_ingredients': 'Pasta, Rice, Chicken, Butter, Flour, Garlic, Soy Sauce', 'dietary_restrictions': 'Contains shellfish', 'instructions': 'Prepare Pasta, Rice, Chicken. Cook with Pasta, Rice, Chicken, Butter, Flour, Garlic, Soy Sauce. Season and serve.', 'nutritional_info': 'Calories: 320, Protein: 35g, Carbs: 44g, Fat: 6g', 'id': 235}\n",
      "{'recipe_name': 'African Lentils Tagine', 'cuisine_type': 'African', 'meal_type': 'Lunch', 'difficulty_level': 'Hard', 'prep_time_minutes': 23, 'cook_time_minutes': 4, 'servings': 2, 'main_ingredients': 'Lentils, Shrimp, Eggs', 'all_ingredients': 'Lentils, Shrimp, Eggs, Butter, Yogurt, Sugar, Onion', 'dietary_restrictions': 'Contains shellfish, Kosher', 'instructions': 'Prepare Lentils, Shrimp, Eggs. Cook with Lentils, Shrimp, Eggs, Butter, Yogurt, Sugar, Onion. Season and serve.', 'nutritional_info': 'Calories: 450, Protein: 32g, Carbs: 66g, Fat: 14g', 'id': 63}\n",
      "{'recipe_name': 'African Potatoes Curry', 'cuisine_type': 'African', 'meal_type': 'Dinner', 'difficulty_level': 'Hard', 'prep_time_minutes': 12, 'cook_time_minutes': 13, 'servings': 7, 'main_ingredients': 'Potatoes, Beef, Cheese', 'all_ingredients': 'Potatoes, Beef, Cheese, Herbs, Yogurt, Honey, Milk', 'dietary_restrictions': 'Paleo, Halal', 'instructions': 'Prepare Potatoes, Beef, Cheese. Cook with Potatoes, Beef, Cheese, Herbs, Yogurt, Honey, Milk. Season and serve.', 'nutritional_info': 'Calories: 406, Protein: 35g, Carbs: 24g, Fat: 18g', 'id': 33}\n",
      "{'recipe_name': 'Avocado Toast', 'cuisine_type': 'American', 'meal_type': 'Breakfast', 'difficulty_level': 'Easy', 'prep_time_minutes': 5, 'cook_time_minutes': 0, 'servings': 1, 'main_ingredients': 'Bread, Avocado', 'all_ingredients': 'Whole-grain Bread, Ripe Avocado, Lemon Juice, Salt, Pepper, Olive Oil', 'dietary_restrictions': 'Vegetarian, Vegan', 'instructions': 'Toast bread slices. Mash avocado with lemon juice, salt, and pepper. Spread on toast and drizzle with olive oil.', 'nutritional_info': 'Calories: 280, Protein: 6g, Carbs: 28g, Fat: 16g', 'id': 2}\n",
      "{'recipe_name': 'Middle Eastern Pork Crumble', 'cuisine_type': 'Middle Eastern', 'meal_type': 'Desserts', 'difficulty_level': 'Medium', 'prep_time_minutes': 15, 'cook_time_minutes': 0, 'servings': 4, 'main_ingredients': 'Pork, Fish, Cheese', 'all_ingredients': 'Pork, Fish, Cheese, Cream, Butter, Onion, Honey', 'dietary_restrictions': 'Gluten-free, Contains nuts', 'instructions': 'Prepare Pork, Fish, Cheese. Cook with Pork, Fish, Cheese, Cream, Butter, Onion, Honey. Season and serve.', 'nutritional_info': 'Calories: 248, Protein: 7g, Carbs: 65g, Fat: 15g', 'id': 37}\n",
      "Unused ingredients: bell pepper, thyme, tomato, lemon, chocolate\n",
      "ES Filtered Search:\n",
      "{'recipe_name': 'Avocado Toast', 'cuisine_type': 'American', 'meal_type': 'Breakfast', 'difficulty_level': 'Easy', 'prep_time_minutes': 5, 'cook_time_minutes': 0, 'servings': 1, 'main_ingredients': 'Bread, Avocado', 'all_ingredients': 'Whole-grain Bread, Ripe Avocado, Lemon Juice, Salt, Pepper, Olive Oil', 'dietary_restrictions': 'Vegetarian, Vegan', 'instructions': 'Toast bread slices. Mash avocado with lemon juice, salt, and pepper. Spread on toast and drizzle with olive oil.', 'nutritional_info': 'Calories: 280, Protein: 6g, Carbs: 28g, Fat: 16g', 'id': 2}\n",
      "Unused ingredients: bell pepper, thyme, butter, shrimp, garlic, onion, potatoes, tomato, pasta, sugar, flour, chocolate, cheese, rice, chicken, milk, lemon, eggs, fish\n",
      "ES Custom Score Search:\n",
      "{'recipe_name': 'Avocado Toast', 'cuisine_type': 'American', 'meal_type': 'Breakfast', 'difficulty_level': 'Easy', 'prep_time_minutes': 5, 'cook_time_minutes': 0, 'servings': 1, 'main_ingredients': 'Bread, Avocado', 'all_ingredients': 'Whole-grain Bread, Ripe Avocado, Lemon Juice, Salt, Pepper, Olive Oil', 'dietary_restrictions': 'Vegetarian, Vegan', 'instructions': 'Toast bread slices. Mash avocado with lemon juice, salt, and pepper. Spread on toast and drizzle with olive oil.', 'nutritional_info': 'Calories: 280, Protein: 6g, Carbs: 28g, Fat: 16g', 'id': 2}\n",
      "{'recipe_name': 'Sushi Rolls', 'cuisine_type': 'Japanese', 'meal_type': 'Lunch', 'difficulty_level': 'Medium', 'prep_time_minutes': 40, 'cook_time_minutes': 0, 'servings': 4, 'main_ingredients': 'Sushi Rice, Nori, Fish/Vegetables', 'all_ingredients': 'Sushi Rice, Rice Vinegar, Sugar, Salt, Nori Sheets, Fresh Fish (salmon/tuna), Avocado, Cucumber, Soy Sauce, Wasabi', 'dietary_restrictions': 'Gluten-free (with tamari), Contains fish', 'instructions': 'Cook sushi rice, season with vinegar mixture. Lay nori, spread rice, add fillings. Roll tightly and slice. Serve with soy sauce and wasabi.', 'nutritional_info': 'Calories: 350, Protein: 18g, Carbs: 50g, Fat: 8g', 'id': 3}\n",
      "{'recipe_name': 'Greek Salad', 'cuisine_type': 'Mediterranean', 'meal_type': 'Lunch', 'difficulty_level': 'Easy', 'prep_time_minutes': 15, 'cook_time_minutes': 0, 'servings': 4, 'main_ingredients': 'Tomatoes, Cucumbers, Feta Cheese', 'all_ingredients': 'Tomatoes, Cucumbers, Red Onion, Kalamata Olives, Feta Cheese, Olive Oil, Oregano, Red Wine Vinegar', 'dietary_restrictions': 'Vegetarian, Gluten-free', 'instructions': 'Chop vegetables. Mix with olives and feta. Drizzle with olive oil and vinegar, sprinkle oregano.', 'nutritional_info': 'Calories: 210, Protein: 6g, Carbs: 12g, Fat: 16g', 'id': 5}\n",
      "{'recipe_name': 'Middle Eastern Pork Crumble', 'cuisine_type': 'Middle Eastern', 'meal_type': 'Desserts', 'difficulty_level': 'Medium', 'prep_time_minutes': 15, 'cook_time_minutes': 0, 'servings': 4, 'main_ingredients': 'Pork, Fish, Cheese', 'all_ingredients': 'Pork, Fish, Cheese, Cream, Butter, Onion, Honey', 'dietary_restrictions': 'Gluten-free, Contains nuts', 'instructions': 'Prepare Pork, Fish, Cheese. Cook with Pork, Fish, Cheese, Cream, Butter, Onion, Honey. Season and serve.', 'nutritional_info': 'Calories: 248, Protein: 7g, Carbs: 65g, Fat: 15g', 'id': 37}\n",
      "{'recipe_name': 'Mexican Mushrooms Roast', 'cuisine_type': 'Mexican', 'meal_type': 'Desserts', 'difficulty_level': 'Hard', 'prep_time_minutes': 14, 'cook_time_minutes': 0, 'servings': 8, 'main_ingredients': 'Mushrooms, Tofu, Eggs', 'all_ingredients': 'Mushrooms, Tofu, Eggs, Herbs, Honey, Olive Oil, Milk', 'dietary_restrictions': 'Contains dairy, Low-carb, Contains shellfish', 'instructions': 'Prepare Mushrooms, Tofu, Eggs. Cook with Mushrooms, Tofu, Eggs, Herbs, Honey, Olive Oil, Milk. Season and serve.', 'nutritional_info': 'Calories: 647, Protein: 29g, Carbs: 69g, Fat: 12g', 'id': 380}\n",
      "Unused ingredients: bell pepper, thyme, shrimp, potatoes, tomato, pasta, lemon, rice, flour, chocolate, chicken, garlic\n"
     ]
    }
   ],
   "source": [
    "ingredients = \"tomato, flour, sugar, chicken, rice, butter, chocolate, shrimp, potatoes, eggs, milk, pasta, cheese, garlic, onion, bell pepper, fish, lemon, thyme\"\n",
    "max_time = 45\n",
    "\n",
    "# Elasticsearch retrieval approaches\n",
    "es_basic_results = es_basic_search(ingredients, num_results=5, max_time=max_time)\n",
    "print(\"ES Basic Search:\")\n",
    "for doc in es_basic_results:\n",
    "    doc_copy = dict(doc)\n",
    "    doc_copy.pop('all_ingredients_vector', None)\n",
    "    print(doc_copy)\n",
    "print_unused_ingredients(ingredients, es_basic_results)\n",
    "\n",
    "es_boosting_results = es_boosting_search(ingredients, num_results=5, max_time=max_time)\n",
    "print(\"ES Boosting Search:\")\n",
    "for doc in es_boosting_results:\n",
    "    doc_copy = dict(doc)\n",
    "    doc_copy.pop('all_ingredients_vector', None)\n",
    "    print(doc_copy)\n",
    "print_unused_ingredients(ingredients, es_boosting_results)\n",
    "\n",
    "es_expansion_results = es_expansion_search(ingredients, num_results=5, max_time=max_time)\n",
    "print(\"ES Query Expansion Search:\")\n",
    "for doc in es_expansion_results:\n",
    "    doc_copy = dict(doc)\n",
    "    doc_copy.pop('all_ingredients_vector', None)\n",
    "    print(doc_copy)\n",
    "print_unused_ingredients(ingredients, es_expansion_results)\n",
    "\n",
    "es_hybrid_results = es_hybrid_search(ingredients, num_results=5, max_time=max_time)\n",
    "print(\"ES Hybrid Search:\")\n",
    "for doc in es_hybrid_results:\n",
    "    doc_copy = dict(doc)\n",
    "    doc_copy.pop('all_ingredients_vector', None)\n",
    "    print(doc_copy)\n",
    "print_unused_ingredients(ingredients, es_hybrid_results)\n",
    "\n",
    "es_cover_results = es_cover_ingredients_search(ingredients, num_results=5, max_time=max_time)\n",
    "print(\"ES Cover Ingredients Search:\")\n",
    "for doc in es_cover_results:\n",
    "    print(doc['recipe_name'], \"-\", doc['all_ingredients'])\n",
    "for doc in es_cover_results:\n",
    "    doc_copy = dict(doc)\n",
    "    doc_copy.pop('all_ingredients_vector', None)\n",
    "    print(doc_copy)    \n",
    "print_unused_ingredients(ingredients, es_cover_results)\n",
    "\n",
    "es_filtered_results = es_filtered_search(ingredients, num_results=5, max_time=max_time, dietary_restriction=None)\n",
    "print(\"ES Filtered Search:\")\n",
    "for doc in es_filtered_results:\n",
    "    doc_copy = dict(doc)\n",
    "    doc_copy.pop('all_ingredients_vector', None)\n",
    "    print(doc_copy)\n",
    "print_unused_ingredients(ingredients, es_filtered_results)\n",
    "\n",
    "es_custom_score_results = es_custom_score_search(ingredients, num_results=5, max_time=max_time)\n",
    "print(\"ES Custom Score Search:\")\n",
    "for doc in es_custom_score_results:\n",
    "    doc_copy = dict(doc)\n",
    "    doc_copy.pop('all_ingredients_vector', None)\n",
    "    print(doc_copy)\n",
    "print_unused_ingredients(ingredients, es_custom_score_results)"
   ]
  },
  {
   "cell_type": "markdown",
   "id": "258c5a13",
   "metadata": {},
   "source": [
    "#### 5.5. Retrieval Approach Conclusion\n",
    "* Basic, Boosting, Expansion, and Filtered Search:\n",
    "These approaches consistently return only a single recipe (e.g., \"Avocado Toast\"), leaving most of the provided ingredients unused. This shows that simple keyword matching, boosting, or synonym expansion in Elasticsearch is not sufficient for broad ingredient coverage when the user provides a long list of ingredients.\n",
    "\n",
    "* Hybrid Search:\n",
    "Returns a couple of recipes that match more ingredients, but still leaves many unused. It improves relevance by combining keyword and semantic similarity, but does not maximize ingredient coverage across multiple recipes.\n",
    "\n",
    "* Cover Ingredients Search:\n",
    "This approach is the most effective for maximizing ingredient usage. It returns a diverse set of recipes that together cover nearly all the user's ingredients, with only a few left unused (e.g., only 4 unused: bell pepper, thyme, tomato, lemon, chocolate). This demonstrates that a set-cover/greedy algorithm on top of Elasticsearch results is best for users who want to use as many of their ingredients as possible.\n",
    "\n",
    "* Custom Score Search:\n",
    "Returns a few more recipes than basic search, but still leaves many ingredients unused. It is better for prioritizing recipes with lower prep/cook times, not for maximizing ingredient coverage.\n",
    "\n",
    "**Comparison to MS (Minsearch) Retrieval Approach:**\n",
    "\n",
    "* MS Basic, Boosting, and Expansion Search:\n",
    "Like Elasticsearch, these approaches return only a single recipe or none, leaving most ingredients unused.\n",
    "\n",
    "* MS Hybrid Search:\n",
    "Returns several relevant recipes, improving ingredient coverage, but still leaves a moderate number unused.\n",
    "\n",
    "* MS Cover Ingredients Search:\n",
    "Like ES Cover, this approach is the best at maximizing ingredient usage, returning a set of recipes that together use almost all the provided ingredients (only 4 unused: thyme, bell pepper, chocolate, lemon).\n",
    "\n",
    "* Conclusion:\n",
    "For both Elasticsearch and Minsearch, the Cover Ingredients Search approach is superior when the goal is to use as many of the user's ingredients as possible. Other approaches are better for finding the single most relevant recipe, but not for maximizing ingredient usage across a set. The results are similar for both ES and MS, but ES may be preferable for scalability and production use, while MS is simpler for prototyping."
   ]
  },
  {
   "cell_type": "markdown",
   "id": "2c333756",
   "metadata": {},
   "source": [
    "### 6. OpenAI Integration and Eslasticsearch RAG Flow\n",
    "Use OpenAI's language model to generate answers based on the context retrieved from Minsearch or Elasticsearch. See the build_prompt and llm functions above.\n"
   ]
  },
  {
   "cell_type": "markdown",
   "id": "49fb786e",
   "metadata": {},
   "source": [
    "#### 6.1. RAG Pipeline Using Elasticsearch \n",
    "Test es_cover_ingredients_search and es_hybrid_search on the RAG Pipeline."
   ]
  },
  {
   "cell_type": "code",
   "execution_count": null,
   "id": "7a2b58bf",
   "metadata": {},
   "outputs": [],
   "source": [
    "# DO I NEED THIS FOR EVALUATING ms_cover_then_hybrid_search?\n",
    "def rag_elasticsearch(query, max_time=None, num_results=5, approach=\"cover\"): \n",
    "    \"\"\"\n",
    "    approach: \"cover\" for es_cover_ingredients_search, \"hybrid\" for es_hybrid_search\n",
    "    \"\"\"\n",
    "    if approach == \"cover\":\n",
    "        search_results = es_cover_ingredients_search(query, num_results=num_results, max_time=max_time)\n",
    "        deduped_results = deduplicate_results(search_results)\n",
    "    elif approach == \"hybrid\":\n",
    "        search_results = es_hybrid_search(query, num_results=num_results, max_time=max_time)\n",
    "        deduped_results = deduplicate_results(search_results)\n",
    "    else:\n",
    "        raise ValueError(\"Unknown approach: choose 'cover' or 'hybrid'\")\n",
    "    prompt = build_prompt(query, deduped_results)\n",
    "    answer = llm(prompt)\n",
    "    return answer"
   ]
  },
  {
   "cell_type": "code",
   "execution_count": 38,
   "id": "8549847e",
   "metadata": {},
   "outputs": [
    {
     "name": "stdout",
     "output_type": "stream",
     "text": [
      "ES Cover Ingredients Search:\n",
      "Based on your list of ingredients, here are some recipe recommendations:\n",
      "\n",
      "1. **African Pasta Roast**: \n",
      "   - **Matching Ingredients**: Pasta, Chicken, Butter, Flour, Garlic, Rice.\n",
      "   - **Explanation**: This recipe uses both pasta and rice, along with chicken and basic seasonings like garlic and butter that you have. You could use any available seasonings in place of those specifically listed.\n",
      "\n",
      "2. **African Lentils Tagine**:\n",
      "   - **Matching Ingredients**: Eggs, Shrimp, Butter, Sugar, Onion.\n",
      "   - **Explanation**: If you're willing to substitute, this recipe works well with shrimp from your list, and it also incorporates eggs. It might require some substitutions for lentils and yogurt if those aren’t available, but it can still work with what you have.\n",
      "\n",
      "3. **African Potatoes Curry**:\n",
      "   - **Matching Ingredients**: Potatoes, Beef, Cheese, Yogurt (as a potential substitute for milk).\n",
      "   - **Explanation**: This recipe directly matches your potato ingredient and allows flexibility with the cheese you mentioned. If you don't have beef, you could also explore using chicken as a substitute.\n",
      "\n",
      "4. **Avocado Toast**:\n",
      "   - **Matching Ingredients**: Bread (not in the list, but can be made if you have flour), Lemon (for the lemon juice).\n",
      "   - **Explanation**: This requires bread and avocado, but you can easily make bread using flour. The lemon juice can be made using the lemon you have, enhancing the flavor of the avocado.\n",
      "\n",
      "Overall, the African Pasta Roast and African Potatoes Curry are the best recipes that closely match your ingredients, with some flexibility in substitutions if needed.\n",
      "\n",
      "ES Hybrid Search:\n",
      "Based on the ingredients you've provided, here are two recipe recommendations from the context that would match as closely as possible, along with necessary substitutions and explanations:\n",
      "\n",
      "1. **Thai Tomatoes Power Bowl**\n",
      "   - **Match Explanation**: This recipe primarily features tomatoes, fish, and garlic. While it doesn't include chicken, rice, or some of the other ingredients listed, it aligns well with your request for tomatoes, fish, and garlic.\n",
      "   - **Substitutions Needed**: You can substitute the fish with chicken if you prefer, although it will change the flavor profile. The recipe does not require flour, butter, or any of the other items like potatoes or shrimp.\n",
      "   - **Dietary Info**: It's low-carb and contains nuts, which may or may not be suitable depending on your dietary preferences.\n",
      "\n",
      "2. **Mediterranean Tomatoes Soup**\n",
      "   - **Match Explanation**: This recipe contains tomatoes and chicken, matching two of your requested ingredients. It is also prepared with garlic and milk.\n",
      "   - **Substitutions Needed**: To align more closely with your ingredient list, you could omit the cheese if you want to keep it dairy-free, though it will alter the dish's creaminess. While the soup doesn’t include flour, it is suitable for those on a gluten-free diet. Again, other listed ingredients such as pasta, potatoes, and eggs are not in this recipe.\n",
      "   - **Dietary Info**: This option is low-carb and gluten-free, making it a versatile choice.\n",
      "\n",
      "For a full utilization of your ingredient list, combining elements of both recipes or creating a custom dish using tomatoes, chicken (or fish), and garlic will be essential, while avoiding other specified ingredients like flour and potatoes.\n"
     ]
    }
   ],
   "source": [
    "ingredients = \"tomato, flour, sugar, chicken, rice, butter, chocolate, shrimp, potatoes, eggs, milk, pasta, cheese, garlic, onion, bell pepper, fish, lemon, thyme\"\n",
    "max_time = 45\n",
    "print(\"ES Cover Ingredients Search:\")\n",
    "print(rag_elasticsearch(ingredients, max_time=max_time, approach=\"cover\"))\n",
    "print(\"\\nES Hybrid Search:\")\n",
    "print(rag_elasticsearch(ingredients, max_time=max_time, approach=\"hybrid\"))"
   ]
  },
  {
   "cell_type": "markdown",
   "id": "a7612b27",
   "metadata": {},
   "source": [
    "#### 6.3. Elasticsearch RAG Pipeline Conclusion\n",
    "* ES Cover Ingredients Search:\n",
    "This approach recommends a set of recipes (e.g., African Pasta Roast, African Lentils Tagine, African Potatoes Curry, Avocado Toast) that together use a broad range of the provided ingredients. It suggests substitutions (e.g., swapping beef for chicken, or using eggs in the tagine) to maximize ingredient usage. However, some ingredients remain unused, and not every recipe is a perfect match, but the approach is practical for minimizing waste and offering variety.\n",
    "\n",
    "* ES Hybrid Search:\n",
    "This approach surfaces recipes that are semantically most relevant to the main ingredients (e.g., Thai Tomatoes Power Bowl, Mediterranean Tomatoes Soup). These recipes tend to match several key ingredients (like tomatoes, fish, garlic, milk, sugar, chicken, cheese), but leave many other ingredients unused. Hybrid search is best for finding the most relevant individual recipes, not for maximizing ingredient coverage across a set.\n",
    "\n",
    "**Comparison to MS RAG Pipeline:**\n",
    "\n",
    "* MS Cover Ingredients Search:\n",
    "The MS pipeline also recommends a diverse set of recipes (African Pasta Roast, African Lentils Tagine, African Potatoes Curry, Beef Tacos) that together use most of your ingredients. It provides similar substitution suggestions and covers a wide range of the ingredient list, with only a few items left unused.\n",
    "\n",
    "* MS Hybrid Search:\n",
    "Like ES Hybrid, this approach surfaces recipes that are individually most relevant to the main ingredients (Thai Tomatoes Power Bowl, African Pasta Roast, Mediterranean Tomatoes Soup). It matches several key ingredients but does not maximize overall ingredient coverage.\n",
    "\n",
    "Use Cover Ingredients Search for maximum ingredient utilization and variety. Use Hybrid Search for the most semantically relevant recipes. Both ES and MS pipelines provide similar quality, but ES is preferable for larger, production deployments."
   ]
  },
  {
   "cell_type": "markdown",
   "id": "d1646d01",
   "metadata": {},
   "source": [
    "#### 6.4. Combine the Two Approaches (Elasticsearch)\n",
    "Combine the two approaches by first running Cover Ingredients Search to select a diverse set of recipes that cover as many ingredients as possible, and then passing those results through the Hybrid Search to rerank or filter them by semantic relevance."
   ]
  },
  {
   "cell_type": "code",
   "execution_count": null,
   "id": "b1916aba",
   "metadata": {},
   "outputs": [],
   "source": [
    "\n",
    "def es_cover_then_hybrid_search(query, num_results=5, max_time=None, hybrid_top_k=5, candidate_pool_size=200):\n",
    "    \"\"\"\n",
    "    Combine Cover Ingredients Search and Hybrid Search for Elasticsearch:\n",
    "    1. Run Cover Ingredients Search to get a diverse set of recipes (pool size = candidate_pool_size).\n",
    "    2. Rerank the pool by semantic similarity to the query using OpenAI embeddings.\n",
    "    3. Remove 'all_ingredients_vector' from each result for cleaner output.\n",
    "    4. Deduplicate results before returning.\n",
    "    \"\"\"\n",
    "    # Step 1: Cover Ingredients Search to get a diverse set and increase the pool size\n",
    "    cover_results = es_cover_ingredients_search(query, num_results=candidate_pool_size, max_time=max_time)\n",
    "    if not cover_results:\n",
    "        return []\n",
    "    # Step 2: Hybrid Search, but restrict to cover_results as the candidate pool\n",
    "    query_emb = get_embedding(query)\n",
    "    cover_embeddings = [get_embedding(doc['all_ingredients']) for doc in cover_results]\n",
    "    similarities = [np.dot(query_emb, emb) for emb in cover_embeddings]\n",
    "    top_indices = np.argsort(similarities)[-hybrid_top_k:][::-1]\n",
    "    # The hybrid logic is built into the similarity ranking (symbolic/keyword + neural/embedding/semantic)\n",
    "    hybrid_results = [cover_results[i] for i in top_indices]\n",
    "    # Remove all_ingredients_vector from each result\n",
    "    for doc in hybrid_results:\n",
    "        doc.pop('all_ingredients_vector', None)\n",
    "\n",
    "    return hybrid_results[:num_results]"
   ]
  },
  {
   "cell_type": "code",
   "execution_count": 25,
   "id": "c9ae5c9c",
   "metadata": {},
   "outputs": [
    {
     "name": "stdout",
     "output_type": "stream",
     "text": [
      "ES Cover + Hybrid Search:\n",
      "[{'recipe_name': 'Mediterranean Tomatoes Soup', 'cuisine_type': 'Mediterranean', 'meal_type': 'Breakfast', 'difficulty_level': 'Hard', 'prep_time_minutes': 10, 'cook_time_minutes': 22, 'servings': 1, 'main_ingredients': 'Tomatoes, Cheese, Chicken', 'all_ingredients': 'Tomatoes, Cheese, Chicken, Garlic, Milk, Soy Sauce, Sugar', 'dietary_restrictions': 'Contains dairy, Low-carb, Gluten-free', 'instructions': 'Prepare Tomatoes, Cheese, Chicken. Cook with Tomatoes, Cheese, Chicken, Garlic, Milk, Soy Sauce, Sugar. Season and serve.', 'nutritional_info': 'Calories: 216, Protein: 36g, Carbs: 40g, Fat: 7g', 'id': 255}, {'recipe_name': 'African Pasta Roast', 'cuisine_type': 'African', 'meal_type': 'Breakfast', 'difficulty_level': 'Medium', 'prep_time_minutes': 21, 'cook_time_minutes': 3, 'servings': 5, 'main_ingredients': 'Pasta, Rice, Chicken', 'all_ingredients': 'Pasta, Rice, Chicken, Butter, Flour, Garlic, Soy Sauce', 'dietary_restrictions': 'Contains shellfish', 'instructions': 'Prepare Pasta, Rice, Chicken. Cook with Pasta, Rice, Chicken, Butter, Flour, Garlic, Soy Sauce. Season and serve.', 'nutritional_info': 'Calories: 320, Protein: 35g, Carbs: 44g, Fat: 6g', 'id': 235}, {'recipe_name': 'African Lentils Tagine', 'cuisine_type': 'African', 'meal_type': 'Lunch', 'difficulty_level': 'Hard', 'prep_time_minutes': 23, 'cook_time_minutes': 4, 'servings': 2, 'main_ingredients': 'Lentils, Shrimp, Eggs', 'all_ingredients': 'Lentils, Shrimp, Eggs, Butter, Yogurt, Sugar, Onion', 'dietary_restrictions': 'Contains shellfish, Kosher', 'instructions': 'Prepare Lentils, Shrimp, Eggs. Cook with Lentils, Shrimp, Eggs, Butter, Yogurt, Sugar, Onion. Season and serve.', 'nutritional_info': 'Calories: 450, Protein: 32g, Carbs: 66g, Fat: 14g', 'id': 63}, {'recipe_name': 'Avocado Toast', 'cuisine_type': 'American', 'meal_type': 'Breakfast', 'difficulty_level': 'Easy', 'prep_time_minutes': 5, 'cook_time_minutes': 0, 'servings': 1, 'main_ingredients': 'Bread, Avocado', 'all_ingredients': 'Whole-grain Bread, Ripe Avocado, Lemon Juice, Salt, Pepper, Olive Oil', 'dietary_restrictions': 'Vegetarian, Vegan', 'instructions': 'Toast bread slices. Mash avocado with lemon juice, salt, and pepper. Spread on toast and drizzle with olive oil.', 'nutritional_info': 'Calories: 280, Protein: 6g, Carbs: 28g, Fat: 16g', 'id': 2}]\n"
     ]
    }
   ],
   "source": [
    "ingredients = \"tomato, flour, sugar, chicken, rice, butter, chocolate, shrimp, potatoes, eggs, milk, pasta, cheese, garlic, onion, bell pepper, fish, lemon, thyme\"\n",
    "max_time = 45\n",
    "print(\"ES Cover + Hybrid Search:\")\n",
    "print(es_cover_then_hybrid_search(ingredients, num_results=5, max_time=max_time))"
   ]
  },
  {
   "cell_type": "markdown",
   "id": "b56c94d6",
   "metadata": {},
   "source": [
    "#### 6.5. Conclusion of Combined Approach (Elasticsearch)\n",
    "\n",
    "* The ES Cover + Hybrid Search approach returns a set of recipes that are semantically relevant and diverse, but in this specific result set, it covers fewer of the user's provided ingredients compared to the Minsearch (MS) pipeline. For example, the ES results include recipes like \"Mediterranean Tomatoes Soup,\" \"African Pasta Roast,\" \"African Lentils Tagine,\" and \"Avocado Toast.\" While these are relevant and varied, some key ingredients from the user's list (such as potatoes, beef, chocolate, and fish) are not covered in the top results.\n",
    "\n",
    "**Comparison to ms_cover_then_hybrid_search:**\n",
    "\n",
    "* The MS Cover + Hybrid Search approach provides a broader ingredient coverage across its top 5 recipes. It includes \"Thai Tomatoes Power Bowl,\" \"African Pasta Roast,\" \"African Lentils Tagine,\" \"African Potatoes Curry,\" and \"Beef Tacos.\" This set covers more of the user's ingredients (including potatoes, beef, fish, and more), resulting in fewer unused ingredients overall.\n",
    "\n",
    "While both pipelines provide relevant and diverse recipes, the Minsearch Cover + Hybrid Search approach is more effective at maximizing ingredient usage for this query, leaving fewer ingredients unused. The Elasticsearch approach is still strong and more scalable for production, but may require further tuning or a larger candidate pool to match MS's ingredient coverage in this scenario."
   ]
  },
  {
   "cell_type": "markdown",
   "id": "b17c990e",
   "metadata": {},
   "source": [
    "### 7. Rerank with LLM\n",
    "\n",
    "Re-ranking means taking an initial set of retrieved documents (candidates) and re-ordering them, often using a more sophisticated model (like an LLM), to improve the relevance of the top results."
   ]
  },
  {
   "cell_type": "code",
   "execution_count": null,
   "id": "7e610629",
   "metadata": {},
   "outputs": [],
   "source": [
    "def rerank_with_llm(query, candidates, max_time=None): \n",
    "    # Apply time filter before reranking\n",
    "    if max_time is not None:\n",
    "        candidates = filter_by_max_time(candidates, max_time)\n",
    "    context = \"\\n\\n\".join([f\"Recipe: {doc['recipe_name']}\\nIngredients: {doc['main_ingredients']}\" for doc in candidates])\n",
    "    prompt = f\"\"\"\n",
    "Given the following user query and candidate recipes, rank the recipes from most to least relevant.\n",
    "\n",
    "Query: {query}\n",
    "\n",
    "Candidates:\n",
    "{context}\n",
    "\n",
    "Return a JSON list of recipe names in ranked order.\n",
    "\"\"\".strip()\n",
    "    response = client.chat.completions.create(\n",
    "        model=\"gpt-4o-mini\",\n",
    "        messages=[{\"role\": \"user\", \"content\": prompt}]\n",
    "    )\n",
    "    import re\n",
    "    content = response.choices[0].message.content\n",
    "    json_match = re.search(r'\\[.*\\]', content, re.DOTALL)\n",
    "    if json_match:\n",
    "        ranked_names = json.loads(json_match.group())\n",
    "    else:\n",
    "        return candidates\n",
    "    ranked_docs = [doc for name in ranked_names for doc in candidates if doc['recipe_name'] == name]\n",
    "    return ranked_docs "
   ]
  },
  {
   "cell_type": "markdown",
   "id": "19b6a04a",
   "metadata": {},
   "source": [
    "#### 7.1. Re-rank the ms_cover_then_hybrid_search RAG Pipeline "
   ]
  },
  {
   "cell_type": "code",
   "execution_count": null,
   "id": "5e2d8f10",
   "metadata": {},
   "outputs": [
    {
     "name": "stdout",
     "output_type": "stream",
     "text": [
      "Mediterranean Rice Skillet\n",
      "Chinese Pasta Soup\n",
      "Indian Tofu Cookies\n",
      "French Onion Soup\n",
      "Beef Tacos\n"
     ]
    }
   ],
   "source": [
    "# 1. Define a query and get some candidate recipes (using any retrieval function)\n",
    "query = \"tomato, flour, sugar, chicken, rice, butter, chocolate, shrimp, potatoes, eggs, milk, pasta, cheese, garlic, onion, bell pepper, fish, lemon, thyme\"\n",
    "candidates = ms_cover_then_hybrid_search(query, index, num_results=5)\n",
    "\n",
    "# 2. Rerank the candidates using the LLM\n",
    "reranked = rerank_with_llm(query, candidates)\n",
    "\n",
    "# 3. Print the reranked recipe names\n",
    "for doc in reranked:\n",
    "    print(doc['recipe_name'])"
   ]
  },
  {
   "cell_type": "code",
   "execution_count": null,
   "id": "c49822c3",
   "metadata": {},
   "outputs": [
    {
     "name": "stdout",
     "output_type": "stream",
     "text": [
      "Unused ingredients: chocolate, bell pepper, lemon\n"
     ]
    }
   ],
   "source": [
    "ingredients = \"tomato, flour, sugar, chicken, rice, butter, chocolate, shrimp, potatoes, eggs, milk, pasta, cheese, garlic, onion, bell pepper, fish, lemon, thyme\"\n",
    "print_unused_ingredients(ingredients, ms_cover_then_hybrid_search(ingredients, index, num_results=5))"
   ]
  },
  {
   "cell_type": "markdown",
   "id": "238861ef",
   "metadata": {},
   "source": [
    "#### 7.2. Re-rank the es_cover_then_hybrid_search RAG Pipeline "
   ]
  },
  {
   "cell_type": "code",
   "execution_count": 27,
   "id": "12288017",
   "metadata": {},
   "outputs": [
    {
     "name": "stdout",
     "output_type": "stream",
     "text": [
      "Chicken Tikka Masala\n",
      "Mediterranean Rice Skillet\n",
      "French Fish Soup\n",
      "Chinese Pasta Soup\n",
      "French Onion Soup\n"
     ]
    }
   ],
   "source": [
    "# 1. Define a query and get some candidate recipes (using any retrieval function)\n",
    "query = \"tomato, flour, sugar, chicken, rice, butter, chocolate, shrimp, potatoes, eggs, milk, pasta, cheese, garlic, onion, bell pepper, fish, lemon, thyme\"\n",
    "candidates = es_cover_then_hybrid_search(query, num_results=5)\n",
    "\n",
    "# 2. Rerank the candidates using the LLM\n",
    "reranked = rerank_with_llm(query, candidates)\n",
    "\n",
    "# 3. Print the reranked recipe names\n",
    "for doc in reranked:\n",
    "    print(doc['recipe_name'])"
   ]
  },
  {
   "cell_type": "code",
   "execution_count": 28,
   "id": "63bb669f",
   "metadata": {},
   "outputs": [
    {
     "name": "stdout",
     "output_type": "stream",
     "text": [
      "Unused ingredients: lemon, tomato, bell pepper, chocolate\n"
     ]
    }
   ],
   "source": [
    "ingredients = \"tomato, flour, sugar, chicken, rice, butter, chocolate, shrimp, potatoes, eggs, milk, pasta, cheese, garlic, onion, bell pepper, fish, lemon, thyme\"\n",
    "print_unused_ingredients(ingredients, es_cover_then_hybrid_search(ingredients, num_results=5))"
   ]
  },
  {
   "cell_type": "markdown",
   "id": "3840519a",
   "metadata": {},
   "source": [
    "#### 7.3. Reranking Conclusion\n",
    "\n",
    "The output is a list of recipe names, ranked by the LLM as the most relevant recipes for the list of ingredients, ensuring the most relevant ones appear first. This combination provides both broad ingredient coverage and high relevance. If the priority is to use as many of the user's ingredients as possible, Minsearch's approach is currently performing better with only 3 unused ingrediens, while Elasticsearch has 4. If the priority is scalability or production-ready search, Elasticsearch is preferable."
   ]
  },
  {
   "cell_type": "markdown",
   "id": "f053ac12",
   "metadata": {},
   "source": [
    "### 8. Key findings\n",
    "For a dataset size of 477 rows, Minsearch is likely to outperform Elasticsearch for ingredient coverage and diversity after deduplication. For larger datasets, Elasticsearch’s strengths become more apparent.\n",
    "\n",
    "* Minsearch is an in-memory, brute-force search that works very well on small datasets. It can efficiently maximize ingredient coverage and diversity because it can scan all recipes directly and apply greedy or hybrid logic without any retrieval bottlenecks.\n",
    "* Elasticsearch is optimized for large-scale, distributed search. On small datasets, its advantages (scalability, distributed indexing, advanced query DSL) are not needed, and its retrieval is limited by the initial candidate pool and ranking heuristics.\n",
    "* Deduplication exposes that ES often returns similar or duplicate recipes when the pool is small, reducing its effective diversity and coverage.\n",
    "\n",
    "For both engines, the \"cover then hybrid\" approach outperforms all other methods. For small datasets, Minsearch is faster and more effective. For larger datasets, Elasticsearch is more scalable.\n",
    "\n"
   ]
  },
  {
   "cell_type": "markdown",
   "id": "5ca352d6",
   "metadata": {},
   "source": [
    "Stop Elasticsearch running in Docker:\n",
    "\n",
    "`docker stop elasticsearch`\n",
    "\n",
    "Remove the container (optional, if you want to delete it):\n",
    "\n",
    "`docker rm elasticsearch`\n"
   ]
  }
 ],
 "metadata": {
  "kernelspec": {
   "display_name": "recipe-assistant-P5TWTFE5",
   "language": "python",
   "name": "python3"
  },
  "language_info": {
   "codemirror_mode": {
    "name": "ipython",
    "version": 3
   },
   "file_extension": ".py",
   "mimetype": "text/x-python",
   "name": "python",
   "nbconvert_exporter": "python",
   "pygments_lexer": "ipython3",
   "version": "3.12.3"
  }
 },
 "nbformat": 4,
 "nbformat_minor": 5
}
