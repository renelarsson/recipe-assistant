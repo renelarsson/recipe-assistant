{
 "cells": [
  {
   "cell_type": "markdown",
   "id": "cea167f4",
   "metadata": {},
   "source": [
    "### 2.3 Dataset Cleaning and Processing"
   ]
  },
  {
   "cell_type": "code",
   "execution_count": 5,
   "id": "d66cc2cd",
   "metadata": {},
   "outputs": [],
   "source": [
    "import pandas as pd\n",
    "import numpy as np\n",
    "\n",
    "# Load and clean dataset\n",
    "df = pd.read_csv('../data/raw_recipes.csv', sep=';')\n",
    "\n",
    "# Clean column names\n",
    "df.columns = df.columns.str.lower().str.replace(' ', '_')\n",
    "\n",
    "# Remove duplicates\n",
    "df = df.drop_duplicates(subset=['recipe_name'])\n",
    "\n",
    "# Basic data validation and cleaning\n",
    "# Remove rows with missing essential information\n",
    "df = df.dropna(subset=['recipe_name', 'main_ingredients', 'instructions'])\n",
    "\n",
    "# Save cleaned dataset\n",
    "df.to_csv('../data/recipes_clean.csv', index=False)"
   ]
  }
 ],
 "metadata": {
  "kernelspec": {
   "display_name": "recipe-assistant-P5TWTFE5",
   "language": "python",
   "name": "python3"
  },
  "language_info": {
   "codemirror_mode": {
    "name": "ipython",
    "version": 3
   },
   "file_extension": ".py",
   "mimetype": "text/x-python",
   "name": "python",
   "nbconvert_exporter": "python",
   "pygments_lexer": "ipython3",
   "version": "3.12.3"
  }
 },
 "nbformat": 4,
 "nbformat_minor": 5
}
